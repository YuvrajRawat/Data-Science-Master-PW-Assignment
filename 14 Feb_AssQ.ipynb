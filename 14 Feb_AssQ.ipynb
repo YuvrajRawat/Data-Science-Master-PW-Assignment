{
 "cells": [
  {
   "cell_type": "code",
   "execution_count": null,
   "id": "cb2b184a",
   "metadata": {},
   "outputs": [],
   "source": [
    "1. Multithreading in Python refers to the ability of a program to execute multiple threads concurrently. Each thread represents \n",
    "a separate flow of control within the same process. Multithreading is used to improve the performance of applications by \n",
    "allowing them to execute multiple tasks simultaneously. The threading module is used to handle threads in Python. It provides \n",
    "classes and functions to create and manage threads efficiently.\n",
    "\n",
    "2. The threading module in Python is used to handle threads. Here's the use of the following functions in the threading module:\n",
    "\n",
    "activeCount: Returns the number of Thread objects currently alive.\n",
    "currentThread: Returns the current Thread object.\n",
    "enumerate: Returns a list of all Thread objects currently alive.\n",
    "\n",
    "3. Explanation of the following functions in the Thread class of the threading module:\n",
    "\n",
    "run: The run method defines the behavior of the thread when it is started. This method needs to be overridden in a subclass of \n",
    "    Thread to define the task the thread should perform.\n",
    "start: The start method is used to start the execution of the thread. It calls the run method internally.\n",
    "join: The join method blocks the execution of the calling thread until the thread on which it is called terminates.\n",
    "isAlive: The isAlive method returns True if the thread is alive (i.e., it has been started but not yet terminated), otherwise \n",
    "    returns False."
   ]
  },
  {
   "cell_type": "code",
   "execution_count": 1,
   "id": "db78e046",
   "metadata": {},
   "outputs": [
    {
     "name": "stdout",
     "output_type": "stream",
     "text": [
      "Square of 1: 1Cube of 1: 1\n",
      "Cube of 2: 8\n",
      "Cube of 3: 27\n",
      "Cube of 4: 64\n",
      "Cube of 5: 125\n",
      "\n",
      "Square of 2: 4\n",
      "Square of 3: 9\n",
      "Square of 4: 16\n",
      "Square of 5: 25\n",
      "Both threads have finished executing.\n"
     ]
    }
   ],
   "source": [
    "# 4. Python program to create two threads, where one prints the list of squares and the other prints the list of cubes:\n",
    "import threading\n",
    "\n",
    "def print_squares():\n",
    "    for i in range(1, 6):\n",
    "        print(f\"Square of {i}: {i*i}\")\n",
    "\n",
    "def print_cubes():\n",
    "    for i in range(1, 6):\n",
    "        print(f\"Cube of {i}: {i*i*i}\")\n",
    "\n",
    "# Create two threads\n",
    "thread1 = threading.Thread(target=print_squares)\n",
    "thread2 = threading.Thread(target=print_cubes)\n",
    "\n",
    "# Start the threads\n",
    "thread1.start()\n",
    "thread2.start()\n",
    "\n",
    "# Wait for both threads to finish\n",
    "thread1.join()\n",
    "thread2.join()\n",
    "\n",
    "print(\"Both threads have finished executing.\")"
   ]
  },
  {
   "cell_type": "code",
   "execution_count": null,
   "id": "68bea89e",
   "metadata": {},
   "outputs": [],
   "source": [
    "1. Advantages of multithreading:\n",
    "\n",
    "Improved performance: Multithreading allows for concurrent execution of tasks, which can lead to better resource utilization and\n",
    "    faster execution times.\n",
    "Responsiveness: Multithreading can improve the responsiveness of applications by allowing them to perform multiple tasks \n",
    "    simultaneously, such as handling user input while performing background tasks.\n",
    "Simplified program structure: Multithreading can simplify the design of complex applications by allowing different tasks to be \n",
    "    executed concurrently in separate threads.\n",
    "Disadvantages of multithreading:\n",
    "\n",
    "Complexity: Multithreaded programs can be more complex to design, implement, and debug compared to single-threaded programs.\n",
    "Synchronization issues: Multithreading introduces the risk of race conditions and deadlocks, which can be difficult to detect \n",
    "    and resolve.\n",
    "Resource contention: Multithreading can lead to resource contention issues, where multiple threads compete for access to shared\n",
    "    resources, potentially causing performance degradation or deadlock situations."
   ]
  },
  {
   "cell_type": "code",
   "execution_count": null,
   "id": "1601ab10",
   "metadata": {},
   "outputs": [],
   "source": [
    "2. Deadlock: Deadlock is a situation where two or more threads are waiting for each other to release resources that they need \n",
    "    in order to proceed. As a result, none of the threads can make progress, leading to a stalemate. Deadlocks can occur when \n",
    "    multiple threads acquire locks on resources in a different order, causing each thread to hold a resource that another \n",
    "    thread needs.\n",
    "\n",
    "Race condition: A race condition occurs when the behavior of a program depends on the sequence or timing of events in concurrent\n",
    "    execution. It arises when multiple threads access shared resources concurrently, and the outcome of the program depends on \n",
    "    the order in which the threads execute. Race conditions can lead to unpredictable behavior and bugs in the program. They \n",
    "    can be avoided by properly synchronizing access to shared resources using locks, semaphores, or other synchronization\n",
    "    primitives."
   ]
  }
 ],
 "metadata": {
  "kernelspec": {
   "display_name": "Python 3 (ipykernel)",
   "language": "python",
   "name": "python3"
  },
  "language_info": {
   "codemirror_mode": {
    "name": "ipython",
    "version": 3
   },
   "file_extension": ".py",
   "mimetype": "text/x-python",
   "name": "python",
   "nbconvert_exporter": "python",
   "pygments_lexer": "ipython3",
   "version": "3.11.5"
  }
 },
 "nbformat": 4,
 "nbformat_minor": 5
}
