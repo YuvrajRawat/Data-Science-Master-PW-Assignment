{
 "cells": [
  {
   "cell_type": "code",
   "execution_count": null,
   "id": "7c1502fa",
   "metadata": {},
   "outputs": [],
   "source": [
    "Ans.1 A class is a blueprint or a template for creating objects, and an object is an instance of a class. \n",
    "A class defines the attributes and behavior of a group of objects.\n",
    "For example, you can think of a class as a blueprint for creating cars,\n",
    "where the class defines the make, model, color, and other attributes of a car.\n",
    "\n",
    "An object, on the other hand, is a specific instance of a class. \n",
    "For example, you can create an object of the \"car\" class by creating a new instance of the car class, \n",
    "such as a blue Honda Civic. This blue Honda Civic object will have its own set of attributes \n",
    "(e.g. make = \"Honda\", model = \"Civic\", color = \"blue\") and behaviors (e.g. start, stop, accelerate) defined by the class."
   ]
  },
  {
   "cell_type": "code",
   "execution_count": 1,
   "id": "575fb668",
   "metadata": {},
   "outputs": [],
   "source": [
    "class Car:\n",
    "    def __init__(self, make, model, color):\n",
    "        self.make = make\n",
    "        self.model = model\n",
    "        self.color = color\n",
    "\n",
    "    def start(self):\n",
    "        print(\"Starting the car...\")\n",
    "\n",
    "    def stop(self):\n",
    "        print(\"Stopping the car...\")\n",
    "\n",
    "    def accelerate(self):\n",
    "        print(\"Accelerating the car...\")"
   ]
  },
  {
   "cell_type": "code",
   "execution_count": 2,
   "id": "362918a9",
   "metadata": {},
   "outputs": [],
   "source": [
    "my_car = Car(\"Honda\", \"Civic\", \"Blue\")"
   ]
  },
  {
   "cell_type": "code",
   "execution_count": 3,
   "id": "36aa765b",
   "metadata": {},
   "outputs": [
    {
     "name": "stdout",
     "output_type": "stream",
     "text": [
      "Honda\n",
      "Civic\n",
      "Blue\n",
      "Starting the car...\n",
      "Accelerating the car...\n",
      "Stopping the car...\n"
     ]
    }
   ],
   "source": [
    "print(my_car.make) \n",
    "print(my_car.model) \n",
    "print(my_car.color) \n",
    "\n",
    "my_car.start() \n",
    "my_car.accelerate() \n",
    "my_car.stop() \n"
   ]
  },
  {
   "cell_type": "code",
   "execution_count": null,
   "id": "5fef9034",
   "metadata": {},
   "outputs": [],
   "source": [
    "Ans.2 Inheritance, Abstraction, Polymorphism and Encapsulation"
   ]
  },
  {
   "cell_type": "code",
   "execution_count": null,
   "id": "36a18e7c",
   "metadata": {},
   "outputs": [],
   "source": [
    "Ans.3 The __init__ function is a special method in Python classes and is known as the constructor method. \n",
    "It is automatically called when an object of the class is created, and it is used to initialize the attributes of the object."
   ]
  },
  {
   "cell_type": "code",
   "execution_count": 4,
   "id": "c49de472",
   "metadata": {},
   "outputs": [
    {
     "name": "stdout",
     "output_type": "stream",
     "text": [
      "Make: Honda\n",
      "Model: Civic\n",
      "Year: 2020\n"
     ]
    }
   ],
   "source": [
    "class Car:\n",
    "    def __init__(self, make, model, year):\n",
    "        self.make = make\n",
    "        self.model = model\n",
    "        self.year = year\n",
    "\n",
    "    def display_car_info(self):\n",
    "        print(\"Make:\", self.make)\n",
    "        print(\"Model:\", self.model)\n",
    "        print(\"Year:\", self.year)\n",
    "\n",
    "my_car = Car(\"Honda\", \"Civic\", 2020)\n",
    "\n",
    "my_car.display_car_info()"
   ]
  },
  {
   "cell_type": "code",
   "execution_count": null,
   "id": "084e1799",
   "metadata": {},
   "outputs": [],
   "source": [
    "Ans.4 In Object-Oriented Programming (OOP), the self keyword is used to refer to the instance of the object being manipulated. \n",
    "It is the first parameter of every method in a class, and it is used to access the attributes and methods of the object."
   ]
  },
  {
   "cell_type": "code",
   "execution_count": null,
   "id": "580306f7",
   "metadata": {},
   "outputs": [],
   "source": [
    "Ans.5 Inheritance is a mechanism in Object-Oriented Programming (OOP) that allows you to create a new class \n",
    "that inherits properties and behaviors from an existing class, known as the base class or superclass. \n",
    "The new class is known as the derived class or subclass. Inheritance enables code reuse, as the derived class \n",
    "can inherit the attributes and methods of the base class and add new features or modify existing ones. \n",
    "This makes it easier to maintain and extend the code, as changes in the base class are automatically reflected in the derived class.\n",
    "\n",
    "There are several types of inheritance in OOP, including:"
   ]
  },
  {
   "cell_type": "code",
   "execution_count": 6,
   "id": "3ed25e17",
   "metadata": {},
   "outputs": [
    {
     "name": "stdout",
     "output_type": "stream",
     "text": [
      "Species: Canine\n",
      "Breed: Labrador\n"
     ]
    }
   ],
   "source": [
    "# 1. Single inheritance: In single inheritance, a subclass inherits properties and behaviors from a single base class.\n",
    "class Animal:\n",
    "    def __init__(self, species):\n",
    "        self.species = species\n",
    "\n",
    "    def display_species(self):\n",
    "        print(\"Species:\", self.species)\n",
    "\n",
    "class Dog(Animal):\n",
    "    def __init__(self, species, breed):\n",
    "        Animal.__init__(self, species)\n",
    "        self.breed = breed\n",
    "\n",
    "    def display_breed(self):\n",
    "        print(\"Breed:\", self.breed)\n",
    "\n",
    "dog = Dog(\"Canine\", \"Labrador\")\n",
    "dog.display_species()\n",
    "dog.display_breed()"
   ]
  },
  {
   "cell_type": "code",
   "execution_count": 7,
   "id": "6fc95c23",
   "metadata": {},
   "outputs": [
    {
     "name": "stdout",
     "output_type": "stream",
     "text": [
      "Horsepower: 250\n",
      "Gear count: 6\n"
     ]
    }
   ],
   "source": [
    "# 2. Multiple inheritance: In multiple inheritance, a subclass inherits properties and behaviors from multiple base classes.\n",
    "class Engine:\n",
    "    def __init__(self, horsepower):\n",
    "        self.horsepower = horsepower\n",
    "\n",
    "    def display_horsepower(self):\n",
    "        print(\"Horsepower:\", self.horsepower)\n",
    "\n",
    "class Transmission:\n",
    "    def __init__(self, gear_count):\n",
    "        self.gear_count = gear_count\n",
    "\n",
    "    def display_gear_count(self):\n",
    "        print(\"Gear count:\", self.gear_count)\n",
    "\n",
    "class Car(Engine, Transmission):\n",
    "    def __init__(self, horsepower, gear_count, make, model, year):\n",
    "        Engine.__init__(self, horsepower)\n",
    "        Transmission.__init__(self, gear_count)\n",
    "        self.make = make\n",
    "        self.model = model\n",
    "        self.year = year\n",
    "\n",
    "car = Car(250, 6, \"Honda\", \"Civic\", 2020)\n",
    "car.display_horsepower()\n",
    "car.display_gear_count()"
   ]
  },
  {
   "cell_type": "code",
   "execution_count": 9,
   "id": "d73db9e5",
   "metadata": {},
   "outputs": [],
   "source": [
    "# 3. Multi-level inheritance: In multi-level inheritance, a subclass inherits properties and behaviors from a base class, which in turn inherits from another base class.\n",
    "class Animal:\n",
    "    def __init__(self, species):\n",
    "        self.species = species\n",
    "\n",
    "    def display_species(self):\n",
    "        print(\"Species:\", self.species)\n",
    "\n",
    "class Dog(Animal):\n",
    "    def __init__(self, species, breed):\n",
    "        Animal.__init__(self, species)\n",
    "        self.breed = breed\n",
    "\n",
    "    def display_breed(self):\n",
    "        print(\"Breed:\", self.breed)\n",
    "\n",
    "class Labrador(Dog):\n",
    "    def __init__(self, breed, color):\n",
    "        Dog.__init__(self, \"Canine\", breed)\n",
    "        self"
   ]
  },
  {
   "cell_type": "code",
   "execution_count": null,
   "id": "60d32238",
   "metadata": {},
   "outputs": [],
   "source": []
  }
 ],
 "metadata": {
  "kernelspec": {
   "display_name": "Python 3 (ipykernel)",
   "language": "python",
   "name": "python3"
  },
  "language_info": {
   "codemirror_mode": {
    "name": "ipython",
    "version": 3
   },
   "file_extension": ".py",
   "mimetype": "text/x-python",
   "name": "python",
   "nbconvert_exporter": "python",
   "pygments_lexer": "ipython3",
   "version": "3.9.12"
  }
 },
 "nbformat": 4,
 "nbformat_minor": 5
}
