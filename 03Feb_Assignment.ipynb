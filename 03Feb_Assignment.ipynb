{
 "cells": [
  {
   "cell_type": "code",
   "execution_count": null,
   "id": "9addbf3a",
   "metadata": {},
   "outputs": [],
   "source": [
    "Ans.1 def keyword is used to create a function. "
   ]
  },
  {
   "cell_type": "code",
   "execution_count": 3,
   "id": "118da043",
   "metadata": {},
   "outputs": [],
   "source": [
    "#Create a function to return a list of odd numbers in the range of 1 to 25.\n",
    "def odd_no(n):\n",
    "    for i in range (0,n):\n",
    "        if i%2!=0:\n",
    "            print(i)\n",
    "    return n"
   ]
  },
  {
   "cell_type": "code",
   "execution_count": 5,
   "id": "0c89ba56",
   "metadata": {},
   "outputs": [
    {
     "name": "stdout",
     "output_type": "stream",
     "text": [
      "1\n",
      "3\n",
      "5\n",
      "7\n",
      "9\n",
      "11\n",
      "13\n",
      "15\n",
      "17\n",
      "19\n",
      "21\n",
      "23\n"
     ]
    },
    {
     "data": {
      "text/plain": [
       "25"
      ]
     },
     "execution_count": 5,
     "metadata": {},
     "output_type": "execute_result"
    }
   ],
   "source": [
    "odd_no(25)"
   ]
  },
  {
   "cell_type": "code",
   "execution_count": null,
   "id": "1e3dd82b",
   "metadata": {},
   "outputs": [],
   "source": [
    "Ans.2 *args is used for taking n no. of arguments within a function, it can be string, int, list, tuple etc.\n",
    "and **kwargs it means keyword arguments, it takes a key and a value of the key and the value can be a int, tuple, string, list etc. \n",
    "The type of **kwargs is dictonary."
   ]
  },
  {
   "cell_type": "code",
   "execution_count": 6,
   "id": "6f2edd76",
   "metadata": {},
   "outputs": [
    {
     "data": {
      "text/plain": [
       "(1, 2, 'Yuvraj')"
      ]
     },
     "execution_count": 6,
     "metadata": {},
     "output_type": "execute_result"
    }
   ],
   "source": [
    "#a function each for *args and **kwargs to demonstrate their use.\n",
    "def test1(*args):\n",
    "    return args\n",
    "test1(1,2,\"Yuvraj\")"
   ]
  },
  {
   "cell_type": "code",
   "execution_count": 7,
   "id": "c7d371cf",
   "metadata": {},
   "outputs": [
    {
     "data": {
      "text/plain": [
       "{'a': 1, 'b': 'yuvraj', 'c': [1, 2, 3]}"
      ]
     },
     "execution_count": 7,
     "metadata": {},
     "output_type": "execute_result"
    }
   ],
   "source": [
    "def test2(**kwargs):\n",
    "    return kwargs\n",
    "test2(a=1,b=\"yuvraj\",c=[1,2,3])"
   ]
  },
  {
   "cell_type": "code",
   "execution_count": null,
   "id": "cd5a4ffa",
   "metadata": {},
   "outputs": [],
   "source": [
    "Ans.3 An iterator in Python is an object that implements two methods, __iter__ and __next__, \n",
    "which allow it to be used in a for loop. The __iter__ method returns the iterator object and \n",
    "the __next__ method returns the next value from the iterator. \n",
    "The __next__ method should raise a StopIteration exception when there are no more values to be returned."
   ]
  },
  {
   "cell_type": "markdown",
   "id": "54b28c04",
   "metadata": {},
   "source": [
    "Ans.4 A generator function is a special kind of function in Python that allows you to create a generator iterator. A generator function is defined like a normal function, but instead of using the return statement to return a value, a generator function uses the yield statement. "
   ]
  },
  {
   "cell_type": "code",
   "execution_count": 11,
   "id": "363ec921",
   "metadata": {},
   "outputs": [],
   "source": [
    "#generator function e.g\n",
    "def fib_no(n):\n",
    "    a,b=0,1\n",
    "    for i in range (n):\n",
    "      yield a \n",
    "      a,b=b,a+b"
   ]
  },
  {
   "cell_type": "code",
   "execution_count": 12,
   "id": "d70f84a8",
   "metadata": {},
   "outputs": [
    {
     "data": {
      "text/plain": [
       "<generator object fib_no at 0x000001BD11DEAEB0>"
      ]
     },
     "execution_count": 12,
     "metadata": {},
     "output_type": "execute_result"
    }
   ],
   "source": [
    "fib_no(10)"
   ]
  },
  {
   "cell_type": "code",
   "execution_count": 16,
   "id": "8469d1a3",
   "metadata": {},
   "outputs": [
    {
     "name": "stdout",
     "output_type": "stream",
     "text": [
      "0\n",
      "1\n",
      "1\n",
      "2\n",
      "3\n",
      "5\n",
      "8\n",
      "13\n",
      "21\n",
      "34\n"
     ]
    }
   ],
   "source": [
    "for i in fib_no(10):\n",
    "    print(i)"
   ]
  },
  {
   "cell_type": "code",
   "execution_count": null,
   "id": "ad799f05",
   "metadata": {},
   "outputs": [],
   "source": [
    "Ans.5 "
   ]
  },
  {
   "cell_type": "code",
   "execution_count": 17,
   "id": "1d1ab6fe",
   "metadata": {},
   "outputs": [
    {
     "name": "stdout",
     "output_type": "stream",
     "text": [
      "2\n",
      "3\n",
      "5\n",
      "7\n",
      "11\n",
      "13\n",
      "17\n",
      "19\n",
      "23\n",
      "29\n",
      "31\n",
      "37\n",
      "41\n",
      "43\n",
      "47\n",
      "53\n",
      "59\n",
      "61\n",
      "67\n",
      "71\n",
      "73\n",
      "79\n",
      "83\n",
      "89\n",
      "97\n",
      "101\n",
      "103\n",
      "107\n",
      "109\n",
      "113\n",
      "127\n",
      "131\n",
      "137\n",
      "139\n",
      "149\n",
      "151\n",
      "157\n",
      "163\n",
      "167\n",
      "173\n",
      "179\n",
      "181\n",
      "191\n",
      "193\n",
      "197\n",
      "199\n",
      "211\n",
      "223\n",
      "227\n",
      "229\n",
      "233\n",
      "239\n",
      "241\n",
      "251\n",
      "257\n",
      "263\n",
      "269\n",
      "271\n",
      "277\n",
      "281\n",
      "283\n",
      "293\n",
      "307\n",
      "311\n",
      "313\n",
      "317\n",
      "331\n",
      "337\n",
      "347\n",
      "349\n",
      "353\n",
      "359\n",
      "367\n",
      "373\n",
      "379\n",
      "383\n",
      "389\n",
      "397\n",
      "401\n",
      "409\n",
      "419\n",
      "421\n",
      "431\n",
      "433\n",
      "439\n",
      "443\n",
      "449\n",
      "457\n",
      "461\n",
      "463\n",
      "467\n",
      "479\n",
      "487\n",
      "491\n",
      "499\n",
      "503\n",
      "509\n",
      "521\n",
      "523\n",
      "541\n",
      "547\n",
      "557\n",
      "563\n",
      "569\n",
      "571\n",
      "577\n",
      "587\n",
      "593\n",
      "599\n",
      "601\n",
      "607\n",
      "613\n",
      "617\n",
      "619\n",
      "631\n",
      "641\n",
      "643\n",
      "647\n",
      "653\n",
      "659\n",
      "661\n",
      "673\n",
      "677\n",
      "683\n",
      "691\n",
      "701\n",
      "709\n",
      "719\n",
      "727\n",
      "733\n",
      "739\n",
      "743\n",
      "751\n",
      "757\n",
      "761\n",
      "769\n",
      "773\n",
      "787\n",
      "797\n",
      "809\n",
      "811\n",
      "821\n",
      "823\n",
      "827\n",
      "829\n",
      "839\n",
      "853\n",
      "857\n",
      "859\n",
      "863\n",
      "877\n",
      "881\n",
      "883\n",
      "887\n",
      "907\n",
      "911\n",
      "919\n",
      "929\n",
      "937\n",
      "941\n",
      "947\n",
      "953\n",
      "967\n",
      "971\n",
      "977\n",
      "983\n",
      "991\n",
      "997\n"
     ]
    }
   ],
   "source": [
    "def prime_numbers(limit):\n",
    "    def is_prime(num):\n",
    "        if num <= 1:\n",
    "            return False\n",
    "        for i in range(2, int(num ** 0.5) + 1):\n",
    "            if num % i == 0:\n",
    "                return False\n",
    "        return True\n",
    "\n",
    "    for i in range(2, limit):\n",
    "        if is_prime(i):\n",
    "            yield i\n",
    "\n",
    "for prime in prime_numbers(1000):\n",
    "    print(prime)\n"
   ]
  },
  {
   "cell_type": "code",
   "execution_count": 18,
   "id": "52cf1fe2",
   "metadata": {},
   "outputs": [
    {
     "name": "stdout",
     "output_type": "stream",
     "text": [
      "2\n",
      "3\n",
      "5\n",
      "7\n",
      "11\n",
      "13\n",
      "17\n",
      "19\n",
      "23\n",
      "29\n",
      "31\n",
      "37\n",
      "41\n",
      "43\n",
      "47\n",
      "53\n",
      "59\n",
      "61\n",
      "67\n",
      "71\n"
     ]
    }
   ],
   "source": [
    "def prime_numbers(limit):\n",
    "    def is_prime(num):\n",
    "        if num <= 1:\n",
    "            return False\n",
    "        for i in range(2, int(num ** 0.5) + 1):\n",
    "            if num % i == 0:\n",
    "                return False\n",
    "        return True\n",
    "\n",
    "    for i in range(2, limit):\n",
    "        if is_prime(i):\n",
    "            yield i\n",
    "\n",
    "prime_gen = prime_numbers(1000)\n",
    "for i in range(20):\n",
    "    print(next(prime_gen))\n"
   ]
  },
  {
   "cell_type": "code",
   "execution_count": null,
   "id": "55c6fdd5",
   "metadata": {},
   "outputs": [],
   "source": []
  }
 ],
 "metadata": {
  "kernelspec": {
   "display_name": "Python 3 (ipykernel)",
   "language": "python",
   "name": "python3"
  },
  "language_info": {
   "codemirror_mode": {
    "name": "ipython",
    "version": 3
   },
   "file_extension": ".py",
   "mimetype": "text/x-python",
   "name": "python",
   "nbconvert_exporter": "python",
   "pygments_lexer": "ipython3",
   "version": "3.9.12"
  }
 },
 "nbformat": 4,
 "nbformat_minor": 5
}
