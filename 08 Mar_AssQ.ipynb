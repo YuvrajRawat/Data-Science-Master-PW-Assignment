{
 "cells": [
  {
   "cell_type": "code",
   "execution_count": null,
   "id": "322c6e85",
   "metadata": {},
   "outputs": [],
   "source": [
    "Q1. Question: What is the Probability density function?\n",
    "Answer: The Probability Density Function (PDF) is a function that describes the likelihood of a continuous random variable \n",
    "    taking on a particular value. It represents the relative likelihood of the variable's value being near a certain point.\n",
    "\n",
    "Q2. Question: What are the types of Probability distribution?\n",
    "Answer: Some types of probability distributions include:\n",
    "\n",
    "Normal distribution\n",
    "Binomial distribution\n",
    "Poisson distribution\n",
    "Exponential distribution\n",
    "Uniform distribution"
   ]
  },
  {
   "cell_type": "code",
   "execution_count": 1,
   "id": "1745731e",
   "metadata": {},
   "outputs": [],
   "source": [
    "# Q3. Question: Write a Python function to calculate the probability density function of a normal distribution with given mean \n",
    "and standard deviation at a given point.\n",
    "# Answer:\n",
    "import math\n",
    "\n",
    "def normal_pdf(x, mean, std_dev):\n",
    "    return (1 / (std_dev * math.sqrt(2 * math.pi))) * math.exp(-0.5 * ((x - mean) / std_dev) ** 2)"
   ]
  },
  {
   "cell_type": "code",
   "execution_count": null,
   "id": "7e539f22",
   "metadata": {},
   "outputs": [],
   "source": [
    "Q4. Question: What are the properties of Binomial distribution? Give two examples of events where binomial distribution can be \n",
    "    applied.\n",
    "Answer: Properties of Binomial distribution include:\n",
    "\n",
    "It models the number of successes in a fixed number of independent Bernoulli trials.\n",
    "Each trial has only two possible outcomes: success or failure.\n",
    "The trials are independent and identically distributed.\n",
    "Two examples where binomial distribution can be applied:\n",
    "Coin flipping (success = heads, failure = tails).\n",
    "Product quality control (success = defect-free, failure = defective)."
   ]
  },
  {
   "cell_type": "code",
   "execution_count": 2,
   "id": "30f038ef",
   "metadata": {},
   "outputs": [
    {
     "data": {
      "image/png": "[encoded data removed]",
      "text/plain": [
       "<Figure size 640x480 with 1 Axes>"
      ]
     },
     "metadata": {},
     "output_type": "display_data"
    }
   ],
   "source": [
    "# Q5. Question: Generate a random sample of size 1000 from a binomial distribution with probability of success 0.4 and plot a \n",
    "#     histogram of the results using matplotlib.\n",
    "# Answer:\n",
    "import numpy as np\n",
    "import matplotlib.pyplot as plt\n",
    "\n",
    "np.random.seed(42)\n",
    "sample = np.random.binomial(n=1, p=0.4, size=1000)\n",
    "\n",
    "plt.hist(sample, bins=2, edgecolor='black')\n",
    "plt.xlabel('Outcome')\n",
    "plt.ylabel('Frequency')\n",
    "plt.title('Histogram of Binomial Distribution')\n",
    "plt.xticks([0, 1], ['Failure', 'Success'])\n",
    "plt.show()"
   ]
  },
  {
   "cell_type": "code",
   "execution_count": 3,
   "id": "18d03621",
   "metadata": {},
   "outputs": [],
   "source": [
    "# Q6. Question: Write a Python function to calculate the cumulative distribution function of a Poisson distribution with given\n",
    "mean at a given point.\n",
    "# Answer:\n",
    "import math\n",
    "\n",
    "def poisson_cdf(k, mean):\n",
    "    cdf = 0\n",
    "    for i in range(k + 1):\n",
    "        cdf += (math.exp(-mean) * (mean ** i)) / math.factorial(i)\n",
    "    return cdf"
   ]
  },
  {
   "cell_type": "code",
   "execution_count": null,
   "id": "48a5e36a",
   "metadata": {},
   "outputs": [],
   "source": [
    "Q7. Question: How is Binomial distribution different from Poisson distribution?\n",
    "Answer: Binomial distribution is used to model the number of successes in a fixed number of independent Bernoulli trials, \n",
    "    whereas Poisson distribution is used to model the number of events occurring in a fixed interval of time or space, given \n",
    "    the average rate of occurrence."
   ]
  },
  {
   "cell_type": "code",
   "execution_count": 4,
   "id": "4e2f887f",
   "metadata": {},
   "outputs": [
    {
     "name": "stdout",
     "output_type": "stream",
     "text": [
      "Sample Mean: 4.985\n",
      "Sample Variance: 4.9967749999999995\n"
     ]
    }
   ],
   "source": [
    "# Q8. Question: Generate a random sample of size 1000 from a Poisson distribution with mean 5 and calculate the sample mean and \n",
    "#     variance.\n",
    "# Answer:\n",
    "import numpy as np\n",
    "\n",
    "np.random.seed(42)\n",
    "sample = np.random.poisson(lam=5, size=1000)\n",
    "\n",
    "sample_mean = np.mean(sample)\n",
    "sample_variance = np.var(sample)\n",
    "\n",
    "print(\"Sample Mean:\", sample_mean)\n",
    "print(\"Sample Variance:\", sample_variance)"
   ]
  },
  {
   "cell_type": "code",
   "execution_count": null,
   "id": "0754bbf0",
   "metadata": {},
   "outputs": [],
   "source": [
    "Q9. Question: How are mean and variance related in Binomial distribution and Poisson distribution?\n",
    "Answer: In both Binomial and Poisson distributions, the mean and variance are equal. For a Binomial distribution, the mean is n \n",
    "    * p and the variance is n * p * (1 - p), while for a Poisson distribution, both the mean and variance are equal to λ.\n",
    "\n",
    "Q10. Question: In normal distribution with respect to mean position, where does the least frequent data appear?\n",
    "Answer: In a normal distribution, the least frequent data appears at the tails, farthest away from the mean position."
   ]
  }
 ],
 "metadata": {
  "kernelspec": {
   "display_name": "Python 3 (ipykernel)",
   "language": "python",
   "name": "python3"
  },
  "language_info": {
   "codemirror_mode": {
    "name": "ipython",
    "version": 3
   },
   "file_extension": ".py",
   "mimetype": "text/x-python",
   "name": "python",
   "nbconvert_exporter": "python",
   "pygments_lexer": "ipython3",
   "version": "3.11.5"
  }
 },
 "nbformat": 4,
 "nbformat_minor": 5
}
