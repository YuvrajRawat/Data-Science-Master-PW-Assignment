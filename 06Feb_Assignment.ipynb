{
 "cells": [
  {
   "cell_type": "code",
   "execution_count": 6,
   "id": "d35b806d",
   "metadata": {},
   "outputs": [],
   "source": [
    "#Ans1\n",
    "def multiply_numbers(lst):\n",
    "    flat_lst = []\n",
    "    for item in lst:\n",
    "        if isinstance(item, list) or isinstance(item, tuple) or isinstance(item, set):\n",
    "            flat_lst.extend([x for x in item if isinstance(x, (int, float))])\n",
    "        elif isinstance(item, dict):\n",
    "            for k, v in item.items():\n",
    "                if isinstance(k, (int, float)):\n",
    "                    flat_lst.append(k)\n",
    "                if isinstance(v, (int, float)):\n",
    "                    flat_lst.append(v)\n",
    "        elif isinstance(item, (int, float)):\n",
    "            flat_lst.append(item)\n",
    "    result = 1\n",
    "    for num in flat_lst:\n",
    "        result *= num\n",
    "    return result"
   ]
  },
  {
   "cell_type": "code",
   "execution_count": null,
   "id": "4a3af9f6",
   "metadata": {},
   "outputs": [],
   "source": [
    "list1 = [1,2,3,4, [44,55,66, True], False, (34,56,78,89,34), {1,2,3,3,2,1}, {1:34, \"key2\": [55, 67, 78, 89], 4: (45, 22, 61, 34)}, [56, 'data science'], 'Machine Learning']\n",
    "print(multiply_numbers(list1))"
   ]
  },
  {
   "cell_type": "code",
   "execution_count": 8,
   "id": "d61a1595",
   "metadata": {},
   "outputs": [
    {
     "name": "stdout",
     "output_type": "stream",
     "text": [
      "r$dzmg$gl$yvxlnv$z$wzgz$hxrvmgrhg.\n"
     ]
    }
   ],
   "source": [
    "#Ans2\n",
    "def encrypt(message):\n",
    "    result = \"\"\n",
    "    for char in message.lower():\n",
    "        if char.isalpha():\n",
    "            result += chr(ord('a') + ord('z') - ord(char))\n",
    "        elif char.isspace():\n",
    "            result += '$'\n",
    "        else:\n",
    "            result += char\n",
    "    return result\n",
    "\n",
    "input_sentence = \"I want to become a Data Scientist.\"\n",
    "encrypted_message = encrypt(input_sentence)\n",
    "print(encrypted_message)\n"
   ]
  },
  {
   "cell_type": "code",
   "execution_count": null,
   "id": "389dcaad",
   "metadata": {},
   "outputs": [],
   "source": []
  }
 ],
 "metadata": {
  "kernelspec": {
   "display_name": "Python 3 (ipykernel)",
   "language": "python",
   "name": "python3"
  },
  "language_info": {
   "codemirror_mode": {
    "name": "ipython",
    "version": 3
   },
   "file_extension": ".py",
   "mimetype": "text/x-python",
   "name": "python",
   "nbconvert_exporter": "python",
   "pygments_lexer": "ipython3",
   "version": "3.9.12"
  }
 },
 "nbformat": 4,
 "nbformat_minor": 5
}
