{
 "cells": [
  {
   "cell_type": "code",
   "execution_count": null,
   "id": "4944555b",
   "metadata": {},
   "outputs": [],
   "source": [
    "Q1. Characteristics of tuples:\n",
    "\n",
    "Tuples are ordered collections of elements.\n",
    "They are immutable, meaning once created, the elements cannot be changed or modified.\n",
    "Tuples allow heterogeneous elements, meaning they can store different data types.\n",
    "Elements can be accessed using indexing or slicing."
   ]
  },
  {
   "cell_type": "code",
   "execution_count": 1,
   "id": "fdf31963",
   "metadata": {},
   "outputs": [
    {
     "name": "stdout",
     "output_type": "stream",
     "text": [
      "3\n"
     ]
    }
   ],
   "source": [
    "# Two tuple methods in Python:\n",
    "\n",
    "# count(): This method returns the number of occurrences of a specified value in the tuple.\n",
    "# Example:\n",
    "my_tuple = (1, 2, 2, 3, 4, 4, 4)\n",
    "count = my_tuple.count(4)\n",
    "print(count)  # Output: 3"
   ]
  },
  {
   "cell_type": "code",
   "execution_count": 2,
   "id": "794653e5",
   "metadata": {},
   "outputs": [
    {
     "name": "stdout",
     "output_type": "stream",
     "text": [
      "2\n"
     ]
    }
   ],
   "source": [
    "# index(): This method returns the index of the first occurrence of a specified value in the tuple.\n",
    "# Example:\n",
    "my_tuple = (1, 2, 3, 4, 5)\n",
    "index = my_tuple.index(3)\n",
    "print(index)  # Output: 2"
   ]
  },
  {
   "cell_type": "code",
   "execution_count": 3,
   "id": "4fbb4836",
   "metadata": {},
   "outputs": [
    {
     "name": "stdout",
     "output_type": "stream",
     "text": [
      "[1, 2, 3, 4]\n"
     ]
    }
   ],
   "source": [
    "# Q3. Collection datatypes in Python that do not allow duplicate items:\n",
    "# Sets and dictionaries do not allow duplicate items. Below is a code using a set to remove duplicates from a given list:\n",
    "my_list = [1, 1, 1, 2, 1, 3, 1, 4, 2, 1, 2, 2, 2, 3, 2, 4, 3, 1, 3, 2, 3, 3, 3, 4, 4, 1, 4, 2, 4, 3, 4, 4]\n",
    "unique_items = set(my_list)\n",
    "print(list(unique_items))"
   ]
  },
  {
   "cell_type": "code",
   "execution_count": 4,
   "id": "bb6a9c0c",
   "metadata": {},
   "outputs": [
    {
     "name": "stdout",
     "output_type": "stream",
     "text": [
      "{1, 2, 3, 4, 5}\n"
     ]
    }
   ],
   "source": [
    "# Q4. Difference between the union() and update() methods for a set:\n",
    "\n",
    "# union(): This method returns a new set containing all distinct elements from both sets.\n",
    "# Example:\n",
    "set1 = {1, 2, 3}\n",
    "set2 = {3, 4, 5}\n",
    "union_set = set1.union(set2)\n",
    "print(union_set)  # Output: {1, 2, 3, 4, 5}"
   ]
  },
  {
   "cell_type": "code",
   "execution_count": 5,
   "id": "db5c54e3",
   "metadata": {},
   "outputs": [
    {
     "name": "stdout",
     "output_type": "stream",
     "text": [
      "{1, 2, 3, 4, 5}\n"
     ]
    }
   ],
   "source": [
    "# update(): This method adds all elements from another set into the current set.\n",
    "# Example:\n",
    "set1 = {1, 2, 3}\n",
    "set2 = {3, 4, 5}\n",
    "set1.update(set2)\n",
    "print(set1)  # Output: {1, 2, 3, 4, 5}"
   ]
  },
  {
   "cell_type": "code",
   "execution_count": 6,
   "id": "39403214",
   "metadata": {},
   "outputs": [],
   "source": [
    "# Q5. Dictionary:\n",
    "# A dictionary in Python is an unordered collection of key-value pairs, where each key is unique.\n",
    "# Example:\n",
    "my_dict = {'apple': 2, 'banana': 3, 'orange': 5}"
   ]
  },
  {
   "cell_type": "code",
   "execution_count": 7,
   "id": "966a491b",
   "metadata": {},
   "outputs": [],
   "source": [
    "# Q6. Yes, we can create a nested dictionary. Here's an example of a simple one-level nested dictionary:\n",
    "nested_dict = {'key1': {'nested_key1': 'value1', 'nested_key2': 'value2'}}"
   ]
  },
  {
   "cell_type": "code",
   "execution_count": 8,
   "id": "306bb6ca",
   "metadata": {},
   "outputs": [
    {
     "name": "stdout",
     "output_type": "stream",
     "text": [
      "{'language': 'Python', 'course': 'Data Science Masters', 'topics': ['Python', 'Machine Learning', 'Deep Learning']}\n"
     ]
    }
   ],
   "source": [
    "# Q7. Using setdefault() method to add a key named 'topics' with the specified list value:\n",
    "dict1 = {'language': 'Python', 'course': 'Data Science Masters'}\n",
    "dict1.setdefault('topics', ['Python', 'Machine Learning', 'Deep Learning'])\n",
    "print(dict1)"
   ]
  },
  {
   "cell_type": "code",
   "execution_count": 9,
   "id": "faca6d08",
   "metadata": {},
   "outputs": [
    {
     "name": "stdout",
     "output_type": "stream",
     "text": [
      "dict_keys(['Sport', 'Teams'])\n",
      "dict_values(['Cricket', ['India', 'Australia', 'England', 'South Africa', 'Sri Lanka', 'New Zealand']])\n",
      "dict_items([('Sport', 'Cricket'), ('Teams', ['India', 'Australia', 'England', 'South Africa', 'Sri Lanka', 'New Zealand'])])\n"
     ]
    }
   ],
   "source": [
    "# Q8. Three view objects in dictionaries:\n",
    "\n",
    "# keys(): Returns a view object that displays a list of all the keys in the dictionary.\n",
    "# values(): Returns a view object that displays a list of all the values in the dictionary.\n",
    "# items(): Returns a view object that displays a list of tuples containing key-value pairs.\n",
    "# Example:\n",
    "dict1 = {'Sport': 'Cricket', 'Teams': ['India', 'Australia', 'England', 'South Africa', 'Sri Lanka', 'New Zealand']}\n",
    "keys_view = dict1.keys()\n",
    "values_view = dict1.values()\n",
    "items_view = dict1.items()\n",
    "\n",
    "print(keys_view)   # Output: dict_keys(['Sport', 'Teams'])\n",
    "print(values_view) # Output: dict_values(['Cricket', ['India', 'Australia', 'England', 'South Africa', 'Sri Lanka', 'New Zealand']])\n",
    "print(items_view)  # Output: dict_items([('Sport', 'Cricket'), ('Teams', ['India', 'Australia', 'England', 'South Africa', 'Sri Lanka', 'New Zealand'])])"
   ]
  }
 ],
 "metadata": {
  "kernelspec": {
   "display_name": "Python 3 (ipykernel)",
   "language": "python",
   "name": "python3"
  },
  "language_info": {
   "codemirror_mode": {
    "name": "ipython",
    "version": 3
   },
   "file_extension": ".py",
   "mimetype": "text/x-python",
   "name": "python",
   "nbconvert_exporter": "python",
   "pygments_lexer": "ipython3",
   "version": "3.11.5"
  }
 },
 "nbformat": 4,
 "nbformat_minor": 5
}
