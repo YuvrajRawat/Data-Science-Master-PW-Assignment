{
 "cells": [
  {
   "cell_type": "code",
   "execution_count": null,
   "id": "143c01d0",
   "metadata": {},
   "outputs": [],
   "source": [
    "Q1. Time-dependent seasonal components in time series data refer to recurring patterns or fluctuations that occur at specific \n",
    "time intervals, such as daily, weekly, monthly, or yearly. These components represent systematic variations that occur regularly\n",
    "due to external factors, like seasons, holidays, or calendar events, and can significantly impact the data's behavior.\n",
    "\n",
    "Q2. Time-dependent seasonal components can be identified in time series data through various methods. One common approach is \n",
    "visual inspection of the data using line plots or seasonal decomposition techniques like seasonal decomposition of time series \n",
    "(STL). Additionally, statistical tests, such as autocorrelation and partial autocorrelation analysis, can help detect and \n",
    "quantify seasonality. Advanced methods like Fourier analysis or spectral analysis can also be employed to reveal underlying \n",
    "seasonal patterns.\n",
    "\n",
    "Q3. Several factors can influence time-dependent seasonal components in time series data. These factors include natural \n",
    "phenomena like weather conditions, biological cycles, and agricultural seasons. Economic events, such as sales promotions,\n",
    "holidays, and economic cycles, can also have a significant impact. Demographic factors, like population growth and migration, \n",
    "may lead to seasonality in certain data sets. Additionally, cultural or social factors may introduce seasonality, as seen in \n",
    "holiday shopping trends or vacation-related data.\n",
    "\n",
    "Q4. Autoregression (AR) models are used in time series analysis and forecasting to capture and predict future values based on \n",
    "their own past values. These models assume that a current value in a time series is linearly related to its past values, making \n",
    "use of lagged observations to make predictions.\n",
    "\n",
    "Q5. Autoregression models make predictions for future time points by utilizing a linear combination of the previous observations\n",
    "in the time series. The model's order, denoted as \"p,\" determines the number of past observations considered. To make a \n",
    "prediction, the model calculates a weighted sum of these past observations, where the weights are determined during the model \n",
    "estimation process. The predicted value for the next time point is then based on this weighted sum.\n",
    "\n",
    "Q6. A Moving Average (MA) model is a time series model that focuses on the relationship between a current value and past white \n",
    "noise (random) error terms. Unlike autoregressive models, which relate a current value to past observations, MA models consider \n",
    "the influence of past errors. MA models are characterized by their order, denoted as \"q,\" which determines how many past error \n",
    "terms are used in the model. MA models are particularly useful for capturing short-term dependencies and smoothing out irregular\n",
    "fluctuations in time series data.\n",
    "\n",
    "Q7. A mixed ARMA (AutoRegressive Moving Average) model combines both autoregressive (AR) and moving average (MA) components \n",
    "to capture the underlying patterns and dependencies in time series data. While an AR model considers the relationship between \n",
    "a current value and its past values, an MA model focuses on the relationship between a current value and past error terms. A \n",
    "mixed ARMA model combines these two aspects, allowing for more flexibility in modeling various time series with both short-term \n",
    "dependencies (MA) and long-term dependencies (AR). It is a more general and powerful model compared to simple AR or MA models, \n",
    "making it suitable for a wider range of time series data."
   ]
  }
 ],
 "metadata": {
  "kernelspec": {
   "display_name": "Python 3 (ipykernel)",
   "language": "python",
   "name": "python3"
  },
  "language_info": {
   "codemirror_mode": {
    "name": "ipython",
    "version": 3
   },
   "file_extension": ".py",
   "mimetype": "text/x-python",
   "name": "python",
   "nbconvert_exporter": "python",
   "pygments_lexer": "ipython3",
   "version": "3.11.4"
  }
 },
 "nbformat": 4,
 "nbformat_minor": 5
}
