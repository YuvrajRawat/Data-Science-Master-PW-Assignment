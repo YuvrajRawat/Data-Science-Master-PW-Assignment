{
 "cells": [
  {
   "cell_type": "code",
   "execution_count": 1,
   "id": "640451c3",
   "metadata": {},
   "outputs": [],
   "source": [
    "#1. TensorFlow primarily uses tensors as the fundamental data structure, which can be thought of as multi-dimensional arrays. \n",
    "# Tensors are at the core of TensorFlow, and there are different data structures that can be created from tensors for various \n",
    "# purposes. Some of the common data structures and their examples in TensorFlow include:\n",
    "\n",
    "#a. Constant: Constants are tensors whose values cannot be changed after creation. They are typically used for storing fixed \n",
    "#  values like hyperparameters, model configuration, or any other constant data.\n",
    "    \n",
    "    #Examples:\n",
    "import tensorflow as tf\n",
    "constant_tensor = tf.constant([1, 2, 3])\n"
   ]
  },
  {
   "cell_type": "code",
   "execution_count": 2,
   "id": "79dc60ce",
   "metadata": {},
   "outputs": [],
   "source": [
    "#b. Variable: Variables are tensors that can be updated during training. They are used to represent model parameters, and their \n",
    "#   values can be modified using operations like gradient descent during training.\n",
    "\n",
    "#Example:\n",
    "\n",
    "import tensorflow as tf\n",
    "variable_tensor = tf.Variable([1.0, 2.0, 3.0])\n"
   ]
  },
  {
   "cell_type": "code",
   "execution_count": null,
   "id": "354c91b0",
   "metadata": {},
   "outputs": [],
   "source": [
    "#c. Placeholder (In older versions, replaced by tf.data): Placeholders are used for feeding input data into a TensorFlow \n",
    "#  computation graph. They allow you to provide data values later during session execution.\n",
    "\n",
    "# Example (older version):\n",
    "\n",
    "import tensorflow as tf\n",
    "x = tf.placeholder(tf.float32, shape=(None, 3))"
   ]
  },
  {
   "cell_type": "code",
   "execution_count": null,
   "id": "97e7a5a0",
   "metadata": {},
   "outputs": [],
   "source": [
    "#d. SparseTensor: Sparse tensors are used to efficiently represent and manipulate data with a large number of zeros, such as \n",
    "# sparse feature data in machine learning.\n",
    "\n",
    "#Example:\n",
    "import tensorflow as tf\n",
    "indices = tf.constant([[0, 1], [2, 3]])\n",
    "values = tf.constant([4, 5], dtype=tf.int32)\n",
    "shape = tf.constant([3, 4])\n",
    "sparse_tensor = tf.sparse.SparseTensor(indices, values, shape)"
   ]
  },
  {
   "cell_type": "code",
   "execution_count": 5,
   "id": "120874d8",
   "metadata": {},
   "outputs": [],
   "source": [
    "#2. TensorFlow Constant vs. TensorFlow Variable:\n",
    "\n",
    "# TensorFlow Constant: Constants in TensorFlow are immutable; once you define their value, it cannot be changed. They are \n",
    "# typically used for storing fixed values, such as model hyperparameters or configuration settings. Changing a constant's value \n",
    "# requires creating a new constant.\n",
    "# Example:\n",
    "\n",
    "import tensorflow as tf\n",
    "constant_tensor = tf.constant(2.0)"
   ]
  },
  {
   "cell_type": "code",
   "execution_count": 6,
   "id": "e778a281",
   "metadata": {},
   "outputs": [],
   "source": [
    "# TensorFlow Variable: Variables are mutable and are used for representing model parameters that need to be updated during \n",
    "# training. They are typically initialized with an initial value and can be modified during training by applying operations that\n",
    "# update their values, such as gradient descent.\n",
    "# Example:\n",
    "\n",
    "import tensorflow as tf\n",
    "variable_tensor = tf.Variable(2.0)\n",
    "updated_variable = variable_tensor.assign(3.0)"
   ]
  },
  {
   "cell_type": "code",
   "execution_count": null,
   "id": "d4e48b0b",
   "metadata": {},
   "outputs": [],
   "source": [
    "#3. Matrix Operations in TensorFlow:\n",
    "\n",
    "Matrix Addition: In TensorFlow, you can perform matrix addition using the tf.add or the + operator\n",
    "    \n",
    "Matrix Multiplication: Matrix multiplication is performed using tf.matmul or the @ operator for matrix multiplication.\n",
    "    \n",
    "Element-wise Operations: Element-wise operations like element-wise addition, subtraction, multiplication, and division can be \n",
    "    performed using standard mathematical operators or TensorFlow functions like tf.add, tf.subtract, tf.multiply, and tf.divide"
   ]
  },
  {
   "cell_type": "code",
   "execution_count": 10,
   "id": "e7a31f7e",
   "metadata": {},
   "outputs": [
    {
     "name": "stdout",
     "output_type": "stream",
     "text": [
      "Matrix A:\n",
      "[[ 0.6485863  -1.0935895   0.33377147]\n",
      " [ 1.7396878  -0.5766993   0.5178998 ]\n",
      " [-0.7307785  -0.5511436   0.43127546]]\n",
      "\n",
      "Matrix B:\n",
      "[[-1.4412652   0.96340454  1.8773173 ]\n",
      " [-0.6810077   1.2411076   0.8172286 ]\n",
      " [ 0.6886203  -1.5216138   0.8150834 ]]\n",
      "\n",
      "Matrix C:\n",
      "[[2.852809  3.2838416 2.869962 ]\n",
      " [2.763329  2.1195412 4.3479857]]\n",
      "\n",
      "Matrix D (Result of A + B):\n",
      "[[-0.79267895 -0.13018501  2.2110887 ]\n",
      " [ 1.05868     0.66440827  1.3351284 ]\n",
      " [-0.04215819 -2.0727575   1.2463589 ]]\n",
      "\n",
      "Matrix E (Result of C * D):\n",
      "[[ 1.0941837  -4.1383166  14.269166  ]\n",
      " [-0.12981994 -7.963823   14.358976  ]]\n"
     ]
    }
   ],
   "source": [
    "#Part 2: Practical Implementation\n",
    "#Task 1: Creating and Manipulating Matrices\n",
    "\n",
    "\n",
    "import tensorflow as tf\n",
    "\n",
    "# Task 1: Create and display matrix A (3x3) with random values using random_normal\n",
    "matrix_shape_A = (3, 3)\n",
    "matrix_A = tf.random.normal(shape=matrix_shape_A)\n",
    "print(\"Matrix A:\")\n",
    "print(matrix_A.numpy())\n",
    "\n",
    "# Task 2: Create and display matrix B (3x3) with truncated normal values (to match A)\n",
    "matrix_shape_B = (3, 3)\n",
    "matrix_B = tf.random.truncated_normal(shape=matrix_shape_B)\n",
    "print(\"\\nMatrix B:\")\n",
    "print(matrix_B.numpy())\n",
    "\n",
    "# Task 3: Create and display matrix C (2x3) with specified mean and standard deviation\n",
    "matrix_shape_C = (2, 3)\n",
    "mean = 3.0\n",
    "stddev = 0.5\n",
    "matrix_C = tf.random.normal(shape=matrix_shape_C, mean=mean, stddev=stddev)\n",
    "print(\"\\nMatrix C:\")\n",
    "print(matrix_C.numpy())\n",
    "\n",
    "# Task 4: Perform matrix addition between A and B to get D\n",
    "matrix_D = tf.add(matrix_A, matrix_B)\n",
    "print(\"\\nMatrix D (Result of A + B):\")\n",
    "print(matrix_D.numpy())\n",
    "\n",
    "# Task 5: Perform matrix multiplication between C and D to get E\n",
    "matrix_E = tf.matmul(matrix_C, matrix_D)\n",
    "print(\"\\nMatrix E (Result of C * D):\")\n",
    "print(matrix_E.numpy())\n"
   ]
  },
  {
   "cell_type": "code",
   "execution_count": 11,
   "id": "2cb5d90b",
   "metadata": {},
   "outputs": [
    {
     "name": "stdout",
     "output_type": "stream",
     "text": [
      "Matrix F:\n",
      "[[0.4217906  0.97683215 0.77904487]\n",
      " [0.647856   0.48958325 0.49193704]\n",
      " [0.79610765 0.925048   0.6899724 ]]\n",
      "\n",
      "Matrix G (Transpose of F):\n",
      "[[0.4217906  0.647856   0.79610765]\n",
      " [0.97683215 0.48958325 0.925048  ]\n",
      " [0.77904487 0.49193704 0.6899724 ]]\n",
      "\n",
      "Matrix H (Element-wise Exponential of F):\n",
      "[[1.5246892 2.656029  2.1793897]\n",
      " [1.9114383 1.6316361 1.6354811]\n",
      " [2.216895  2.5219893 1.9936604]]\n",
      "\n",
      "Matrix I (Concatenation of F and G horizontally):\n",
      "[[0.4217906  0.97683215 0.77904487 0.4217906  0.647856   0.79610765]\n",
      " [0.647856   0.48958325 0.49193704 0.97683215 0.48958325 0.925048  ]\n",
      " [0.79610765 0.925048   0.6899724  0.77904487 0.49193704 0.6899724 ]]\n",
      "\n",
      "Matrix J (Concatenation of F and H vertically):\n",
      "[[0.4217906  0.97683215 0.77904487]\n",
      " [0.647856   0.48958325 0.49193704]\n",
      " [0.79610765 0.925048   0.6899724 ]\n",
      " [1.5246892  2.656029   2.1793897 ]\n",
      " [1.9114383  1.6316361  1.6354811 ]\n",
      " [2.216895   2.5219893  1.9936604 ]]\n"
     ]
    }
   ],
   "source": [
    "#Task 2: Performing Additional Matrix Operations\n",
    "\n",
    "import tensorflow as tf\n",
    "\n",
    "# Task 1: Create and display matrix F (3x3) with random values using random_uniform\n",
    "matrix_shape_F = (3, 3)\n",
    "matrix_F = tf.random.uniform(shape=matrix_shape_F)\n",
    "print(\"Matrix F:\")\n",
    "print(matrix_F.numpy())\n",
    "\n",
    "# Task 2: Calculate the transpose of matrix F and store the result in matrix G\n",
    "matrix_G = tf.transpose(matrix_F)\n",
    "print(\"\\nMatrix G (Transpose of F):\")\n",
    "print(matrix_G.numpy())\n",
    "\n",
    "# Task 3: Calculate the element-wise exponential of matrix F and store the result in matrix H\n",
    "matrix_H = tf.exp(matrix_F)\n",
    "print(\"\\nMatrix H (Element-wise Exponential of F):\")\n",
    "print(matrix_H.numpy())\n",
    "\n",
    "# Task 4: Create matrix I by concatenating F and G horizontally\n",
    "matrix_I = tf.concat([matrix_F, matrix_G], axis=1)\n",
    "print(\"\\nMatrix I (Concatenation of F and G horizontally):\")\n",
    "print(matrix_I.numpy())\n",
    "\n",
    "# Task 5: Create matrix J by concatenating F and H vertically\n",
    "matrix_J = tf.concat([matrix_F, matrix_H], axis=0)\n",
    "print(\"\\nMatrix J (Concatenation of F and H vertically):\")\n",
    "print(matrix_J.numpy())"
   ]
  }
 ],
 "metadata": {
  "kernelspec": {
   "display_name": "Python 3 (ipykernel)",
   "language": "python",
   "name": "python3"
  },
  "language_info": {
   "codemirror_mode": {
    "name": "ipython",
    "version": 3
   },
   "file_extension": ".py",
   "mimetype": "text/x-python",
   "name": "python",
   "nbconvert_exporter": "python",
   "pygments_lexer": "ipython3",
   "version": "3.11.4"
  }
 },
 "nbformat": 4,
 "nbformat_minor": 5
}
