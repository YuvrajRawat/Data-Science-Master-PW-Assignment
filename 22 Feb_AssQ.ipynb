{
 "cells": [
  {
   "cell_type": "code",
   "execution_count": 1,
   "id": "89593f67",
   "metadata": {},
   "outputs": [
    {
     "name": "stdout",
     "output_type": "stream",
     "text": [
      "0     4\n",
      "1     8\n",
      "2    15\n",
      "3    16\n",
      "4    23\n",
      "5    42\n",
      "dtype: int64\n"
     ]
    }
   ],
   "source": [
    "# Q1. \n",
    "import pandas as pd\n",
    "\n",
    "data = [4, 8, 15, 16, 23, 42]\n",
    "series = pd.Series(data)\n",
    "print(series)"
   ]
  },
  {
   "cell_type": "code",
   "execution_count": 2,
   "id": "811cee9c",
   "metadata": {},
   "outputs": [
    {
     "name": "stdout",
     "output_type": "stream",
     "text": [
      "0     1\n",
      "1     2\n",
      "2     3\n",
      "3     4\n",
      "4     5\n",
      "5     6\n",
      "6     7\n",
      "7     8\n",
      "8     9\n",
      "9    10\n",
      "dtype: int64\n"
     ]
    }
   ],
   "source": [
    "# Q2.\n",
    "data_list = [1, 2, 3, 4, 5, 6, 7, 8, 9, 10]\n",
    "series_from_list = pd.Series(data_list)\n",
    "print(series_from_list)"
   ]
  },
  {
   "cell_type": "code",
   "execution_count": 3,
   "id": "68bda582",
   "metadata": {},
   "outputs": [
    {
     "name": "stdout",
     "output_type": "stream",
     "text": [
      "      Name  Age  Gender\n",
      "0    Alice   25  Female\n",
      "1      Bob   30    Male\n",
      "2  Charlie   35    Male\n"
     ]
    }
   ],
   "source": [
    "#Q3. \n",
    "import pandas as pd\n",
    "\n",
    "data = {'Name': ['Alice', 'Bob', 'Charlie'],\n",
    "        'Age': [25, 30, 35],\n",
    "        'Gender': ['Female', 'Male', 'Male']}\n",
    "\n",
    "df = pd.DataFrame(data)\n",
    "print(df)"
   ]
  },
  {
   "cell_type": "code",
   "execution_count": null,
   "id": "73efab42",
   "metadata": {},
   "outputs": [],
   "source": [
    "#Q4. What is ‘DataFrame’ in pandas and how is it different from pandas.Series? Explain with an example.\n",
    "\n",
    "DataFrame: DataFrame is a 2-dimensional labeled data structure with columns of potentially different types. It can be thought of\n",
    "    as a table or spreadsheet consisting of rows and columns, where each column can contain different types of data (e.g., \n",
    "    integers, floats, strings). DataFrames are commonly used to store and manipulate structured data.\n",
    "\n",
    "Series: Series is a one-dimensional labeled array capable of holding data of any type. It is similar to a list or an array, but \n",
    "    with additional functionalities and labeled indexing. Each element in a Series has a corresponding index label, allowing \n",
    "    for easy data manipulation and access."
   ]
  },
  {
   "cell_type": "code",
   "execution_count": 4,
   "id": "b78620e6",
   "metadata": {},
   "outputs": [
    {
     "name": "stdout",
     "output_type": "stream",
     "text": [
      "Series:\n",
      "0    1\n",
      "1    2\n",
      "2    3\n",
      "3    4\n",
      "4    5\n",
      "dtype: int64\n",
      "\n",
      "DataFrame:\n",
      "   A  B\n",
      "0  1  4\n",
      "1  2  5\n",
      "2  3  6\n"
     ]
    }
   ],
   "source": [
    "import pandas as pd\n",
    "\n",
    "# Creating a Series\n",
    "series = pd.Series([1, 2, 3, 4, 5])\n",
    "\n",
    "# Creating a DataFrame\n",
    "data = {'A': [1, 2, 3],\n",
    "        'B': [4, 5, 6]}\n",
    "df = pd.DataFrame(data)\n",
    "\n",
    "print(\"Series:\")\n",
    "print(series)\n",
    "\n",
    "print(\"\\nDataFrame:\")\n",
    "print(df)\n"
   ]
  },
  {
   "cell_type": "code",
   "execution_count": 5,
   "id": "b81e27dc",
   "metadata": {},
   "outputs": [
    {
     "name": "stdout",
     "output_type": "stream",
     "text": [
      "Gender\n",
      "Female    25.00\n",
      "Male      28.75\n",
      "Name: Age, dtype: float64\n"
     ]
    }
   ],
   "source": [
    "# Q5. What are some common functions you can use to manipulate data in a Pandas DataFrame? Can you give an example of when you \n",
    "# might use one of these functions?\n",
    "\n",
    "# Some common functions for manipulating data in a Pandas DataFrame include:\n",
    "\n",
    "# head(): Display the first n rows of the DataFrame.\n",
    "# tail(): Display the last n rows of the DataFrame.\n",
    "# info(): Display a concise summary of the DataFrame, including data types and non-null counts.\n",
    "# describe(): Generate descriptive statistics of the DataFrame.\n",
    "# drop(): Remove rows or columns from the DataFrame.\n",
    "# fillna(): Fill missing values in the DataFrame with specified values.\n",
    "# groupby(): Group DataFrame by one or more columns.\n",
    "# merge(): Merge two DataFrames by one or more keys.\n",
    "# pivot_table(): Create a pivot table based on the DataFrame.\n",
    "\n",
    "import pandas as pd\n",
    "\n",
    "# Create a DataFrame\n",
    "data = {'Name': ['Alice', 'Bob', 'Charlie'],\n",
    "        'Age': [25, 30, None],\n",
    "        'Gender': ['Female', 'Male', 'Male']}\n",
    "df = pd.DataFrame(data)\n",
    "\n",
    "# Fill missing values in the 'Age' column with the mean age\n",
    "df['Age'] = df['Age'].fillna(df['Age'].mean())\n",
    "\n",
    "# Group DataFrame by 'Gender' and calculate the average age\n",
    "average_age_by_gender = df.groupby('Gender')['Age'].mean()\n",
    "\n",
    "print(average_age_by_gender)\n"
   ]
  }
 ],
 "metadata": {
  "kernelspec": {
   "display_name": "Python 3 (ipykernel)",
   "language": "python",
   "name": "python3"
  },
  "language_info": {
   "codemirror_mode": {
    "name": "ipython",
    "version": 3
   },
   "file_extension": ".py",
   "mimetype": "text/x-python",
   "name": "python",
   "nbconvert_exporter": "python",
   "pygments_lexer": "ipython3",
   "version": "3.11.5"
  }
 },
 "nbformat": 4,
 "nbformat_minor": 5
}
