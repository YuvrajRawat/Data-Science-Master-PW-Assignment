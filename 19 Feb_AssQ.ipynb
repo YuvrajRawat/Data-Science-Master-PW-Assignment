{
 "cells": [
  {
   "cell_type": "code",
   "execution_count": null,
   "id": "271d563b",
   "metadata": {},
   "outputs": [],
   "source": [
    "Q1. What is Flask Framework? What are the advantages of Flask Framework?\n",
    "\n",
    "Flask is a lightweight web application framework written in Python. It is designed to make it easy to build web applications \n",
    "quickly and with minimal boilerplate code. Flask follows the WSGI (Web Server Gateway Interface) standard and is based on the \n",
    "\\Werkzeug toolkit and Jinja2 template engine.\n",
    "Advantages of Flask Framework:\n",
    "\n",
    "Lightweight: Flask is a minimalistic framework with a simple and easy-to-understand syntax, making it lightweight and easy to \n",
    "    use.\n",
    "Flexibility: Flask allows developers to choose the components they need, making it highly customizable for different project \n",
    "    requirements.\n",
    "Extensibility: Flask provides a rich ecosystem of extensions and plugins that can be easily integrated into applications to add\n",
    "    \\additional functionality.\n",
    "Built-in development server: Flask comes with a built-in development server, making it easy to develop and test applications \n",
    "    locally.\n",
    "Easy to learn: Flask has a shallow learning curve, making it accessible to beginners and experienced developers alike.\n",
    "Pythonic: Flask follows Python's principles and idioms, making it intuitive for Python developers to work with."
   ]
  },
  {
   "cell_type": "code",
   "execution_count": null,
   "id": "f471db7a",
   "metadata": {},
   "outputs": [],
   "source": [
    "# Q2. Create a simple Flask application to display ‘Hello World!!’. Attach the screenshot of the output in Jupyter Notebook.\n",
    "from flask import Flask\n",
    "\n",
    "app = Flask(__name__)\n",
    "\n",
    "@app.route('/')\n",
    "def hello_world():\n",
    "    return 'Hello World!!'\n",
    "\n",
    "if __name__ == '__main__':\n",
    "    app.run()"
   ]
  },
  {
   "cell_type": "code",
   "execution_count": null,
   "id": "468f8523",
   "metadata": {},
   "outputs": [],
   "source": [
    "Q3. What is App routing in Flask? Why do we use app routes?\n",
    "\n",
    "App routing in Flask refers to the process of mapping URL paths to corresponding view functions or handlers within a Flask \n",
    "application. This is achieved using the @app.route() decorator, which associates a URL pattern with a specific function that \n",
    "should be executed when that URL is requested.\n",
    "\n",
    "App routes are used to define the endpoints or routes of a Flask application. They specify how incoming requests should be \n",
    "handled and what response should be returned to the client. App routes make it easy to organize and structure the code of a \n",
    "Flask application, allowing developers to define separate handlers for different parts of the application logic."
   ]
  },
  {
   "cell_type": "code",
   "execution_count": null,
   "id": "aa466ebf",
   "metadata": {},
   "outputs": [],
   "source": [
    "# Q4. Create a “/welcome” route to display the welcome message “Welcome to ABC Corporation” and a “/” route to show the following\n",
    "# details:\n",
    "from flask import Flask\n",
    "\n",
    "app = Flask(__name__)\n",
    "\n",
    "@app.route('/')\n",
    "def index():\n",
    "    return \"\"\"Company Name: ABC Corporation\n",
    "    Location: India\n",
    "    Contact Detail: 999-999-9999\"\"\"\n",
    "\n",
    "@app.route('/welcome')\n",
    "def welcome():\n",
    "    return 'Welcome to ABC Corporation'\n",
    "\n",
    "if __name__ == '__main__':\n",
    "    app.run()"
   ]
  },
  {
   "cell_type": "code",
   "execution_count": null,
   "id": "161069d9",
   "metadata": {},
   "outputs": [],
   "source": [
    "# Q5. What function is used in Flask for URL Building? Write a Python code to demonstrate the working of the url_for() function.\n",
    "\n",
    "# The url_for() function in Flask is used for URL building. It generates a URL for the specified endpoint by mapping the endpoint\n",
    "# name to the corresponding URL pattern defined in the routes of the Flask application.\n",
    "from flask import Flask, url_for\n",
    "\n",
    "app = Flask(__name__)\n",
    "\n",
    "@app.route('/')\n",
    "def index():\n",
    "    return 'Index Page'\n",
    "\n",
    "@app.route('/hello')\n",
    "def hello():\n",
    "    return 'Hello, World'\n",
    "\n",
    "@app.route('/user/<username>')\n",
    "def profile(username):\n",
    "    return f'{username}\\'s profile'\n",
    "\n",
    "with app.test_request_context():\n",
    "    print(url_for('index'))   # Output: /\n",
    "    print(url_for('hello'))   # Output: /hello\n",
    "    print(url_for('hello', next='/'))  # Output: /hello?next=/\n",
    "    print(url_for('profile', username='John Doe'))  # Output: /user/John%20Doe"
   ]
  }
 ],
 "metadata": {
  "kernelspec": {
   "display_name": "Python 3 (ipykernel)",
   "language": "python",
   "name": "python3"
  },
  "language_info": {
   "codemirror_mode": {
    "name": "ipython",
    "version": 3
   },
   "file_extension": ".py",
   "mimetype": "text/x-python",
   "name": "python",
   "nbconvert_exporter": "python",
   "pygments_lexer": "ipython3",
   "version": "3.11.5"
  }
 },
 "nbformat": 4,
 "nbformat_minor": 5
}
