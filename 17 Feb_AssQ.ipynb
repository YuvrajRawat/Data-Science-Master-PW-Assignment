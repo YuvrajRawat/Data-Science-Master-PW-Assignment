{
 "cells": [
  {
   "cell_type": "code",
   "execution_count": null,
   "id": "848ad480",
   "metadata": {},
   "outputs": [],
   "source": [
    "Q1. What is MongoDB? Explain non-relational databases in short. In which scenarios it is preferred to use MongoDB over SQL \n",
    "databases?\n",
    "\n",
    "MongoDB is a popular open-source NoSQL database management system that uses a document-oriented data model. Instead of using \n",
    "tables and rows as in relational databases, MongoDB is built on a flexible, JSON-like document structure, making it easier to \n",
    "store and manage semi-structured data.\n",
    "\n",
    "Non-relational databases, also known as NoSQL databases, are databases that do not rely on the traditional tabular structure of \n",
    "relational databases. They are designed to handle large volumes of unstructured or semi-structured data and provide high \n",
    "scalability, flexibility, and performance. NoSQL databases are suitable for scenarios where data requirements are constantly \n",
    "changing, or where there is a need to handle large volumes of data with high concurrency.\n",
    "\n",
    "MongoDB is preferred over SQL databases in scenarios such as:\n",
    "\n",
    "Storing and managing unstructured or semi-structured data, such as JSON documents or arrays.\n",
    "High scalability requirements, where horizontal scaling (adding more servers) is easier to implement than vertical scaling \n",
    "(upgrading server hardware).\n",
    "Rapid development and prototyping, as MongoDB's flexible schema allows for easier iteration and adaptation to changing \n",
    "requirements.\n",
    "Real-time analytics and event-driven architectures, where fast read and write operations are essential."
   ]
  },
  {
   "cell_type": "code",
   "execution_count": null,
   "id": "76d854e0",
   "metadata": {},
   "outputs": [],
   "source": [
    "Q2. State and Explain the features of MongoDB.\n",
    "\n",
    "Flexible Schema: MongoDB uses a flexible document model, allowing fields to vary from document to document within a collection.\n",
    "\n",
    "High Scalability: MongoDB scales horizontally by sharding data across multiple servers, making it easy to handle large volumes \n",
    "    of data and high throughput.\n",
    "\n",
    "High Performance: MongoDB uses indexing and query optimization techniques to provide fast read and write operations.\n",
    "\n",
    "Rich Query Language: MongoDB supports a rich query language with support for ad-hoc queries, indexing, and aggregation.\n",
    "\n",
    "Automatic Failover: MongoDB provides built-in support for automatic failover and data redundancy through replica sets.\n",
    "\n",
    "Schema Validation: MongoDB allows you to enforce data validation rules at the database level using schema validation."
   ]
  },
  {
   "cell_type": "code",
   "execution_count": null,
   "id": "0ca54a85",
   "metadata": {},
   "outputs": [],
   "source": [
    "# Q3. Write a code to connect MongoDB to Python. Also, create a database and a collection in MongoDB.\n",
    "import pymongo\n",
    "\n",
    "# Connect to MongoDB\n",
    "client = pymongo.MongoClient(\"mongodb://localhost:27017/\")\n",
    "\n",
    "# Create a database\n",
    "mydb = client[\"mydatabase\"]\n",
    "\n",
    "# Create a collection\n",
    "mycol = mydb[\"customers\"]"
   ]
  },
  {
   "cell_type": "code",
   "execution_count": null,
   "id": "f7a92de5",
   "metadata": {},
   "outputs": [],
   "source": [
    "# Q4. Using the database and the collection created in question number 3, write a code to insert one record, and insert many \n",
    "# records. Use the find() and find_one() methods to print the inserted record.\n",
    "# Insert one record\n",
    "mydict = { \"name\": \"John\", \"address\": \"Highway 37\" }\n",
    "x = mycol.insert_one(mydict)\n",
    "print(x.inserted_id)\n",
    "\n",
    "# Insert many records\n",
    "mylist = [\n",
    "  { \"name\": \"Amy\", \"address\": \"Apple st 652\"},\n",
    "  { \"name\": \"Hannah\", \"address\": \"Mountain 21\"},\n",
    "  { \"name\": \"Michael\", \"address\": \"Valley 345\"},\n",
    "  { \"name\": \"Sandy\", \"address\": \"Ocean blvd 2\"},\n",
    "  { \"name\": \"Betty\", \"address\": \"Green Grass 1\"},\n",
    "  { \"name\": \"Richard\", \"address\": \"Sky st 331\"},\n",
    "  { \"name\": \"Susan\", \"address\": \"One way 98\"},\n",
    "  { \"name\": \"Vicky\", \"address\": \"Yellow Garden 2\"},\n",
    "  { \"name\": \"Ben\", \"address\": \"Park Lane 38\"},\n",
    "  { \"name\": \"William\", \"address\": \"Central st 954\"},\n",
    "  { \"name\": \"Chuck\", \"address\": \"Main Road 989\"},\n",
    "  { \"name\": \"Viola\", \"address\": \"Sideway 1633\"}\n",
    "]\n",
    "x = mycol.insert_many(mylist)\n",
    "print(x.inserted_ids)\n",
    "\n",
    "# Print inserted record using find_one()\n",
    "print(mycol.find_one())\n",
    "\n",
    "# Print all inserted records using find()\n",
    "for x in mycol.find():\n",
    "  print(x)"
   ]
  },
  {
   "cell_type": "code",
   "execution_count": null,
   "id": "f860489b",
   "metadata": {},
   "outputs": [],
   "source": [
    "# Q5. Explain how you can use the find() method to query the MongoDB database. Write a simple code to demonstrate this.\n",
    "\n",
    "# The find() method is used to retrieve documents from a collection based on specified criteria. It returns a cursor object that \n",
    "# can be iterated to access the documents.\n",
    "# Find documents where the address starts with the letter 'S'\n",
    "myquery = { \"address\": { \"$regex\": \"^S\" } }\n",
    "mydoc = mycol.find(myquery)\n",
    "for x in mydoc:\n",
    "  print(x)"
   ]
  },
  {
   "cell_type": "code",
   "execution_count": null,
   "id": "f2d2113a",
   "metadata": {},
   "outputs": [],
   "source": [
    "# Q6. Explain the sort() method. Give an example to demonstrate sorting in MongoDB.\n",
    "\n",
    "# The sort() method is used to sort the results of a query in MongoDB. It takes one parameter, which is a dictionary specifying \n",
    "# the fields to sort by and the sort order (ascending or descending).\n",
    "# Sort the results by the 'name' field in ascending order\n",
    "mydoc = mycol.find().sort(\"name\")\n",
    "\n",
    "# Sort the results by the 'name' field in descending order\n",
    "mydoc = mycol.find().sort(\"name\", -1)"
   ]
  },
  {
   "cell_type": "code",
   "execution_count": null,
   "id": "b1355988",
   "metadata": {},
   "outputs": [],
   "source": [
    "Q7. Explain why delete_one(), delete_many(), and drop() is used.\n",
    "\n",
    "delete_one(): This method is used to delete a single document from a collection that matches the specified criteria.\n",
    "\n",
    "delete_many(): This method is used to delete multiple documents from a collection that match the specified criteria.\n",
    "\n",
    "drop(): This method is used to delete an entire collection from the database. It removes all documents and indexes associated \n",
    "    with the collection."
   ]
  }
 ],
 "metadata": {
  "kernelspec": {
   "display_name": "Python 3 (ipykernel)",
   "language": "python",
   "name": "python3"
  },
  "language_info": {
   "codemirror_mode": {
    "name": "ipython",
    "version": 3
   },
   "file_extension": ".py",
   "mimetype": "text/x-python",
   "name": "python",
   "nbconvert_exporter": "python",
   "pygments_lexer": "ipython3",
   "version": "3.11.5"
  }
 },
 "nbformat": 4,
 "nbformat_minor": 5
}
