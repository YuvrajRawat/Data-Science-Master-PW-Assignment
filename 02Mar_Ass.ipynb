{
 "cells": [
  {
   "cell_type": "code",
   "execution_count": null,
   "id": "fabf0cfe",
   "metadata": {},
   "outputs": [],
   "source": [
    "#Ans 1 What is Matplotlib? Why is it used? Name five plots that can be plotted using the Pyplot module of Matplotlib.\n",
    "\n",
    "Matplotlib is a Python library that provides a comprehensive toolkit for creating static, animated, and interactive visualizations\n",
    "in Python. It is a popular data visualization library used by data analysts, \n",
    "scientists, and researchers to create high-quality plots, charts, and figures.Matplotlib is used for a variety of purpses, \n",
    "including data exploration, presentation, and publication. It is highly customizable and allows for fine-tuned control over \n",
    "the appearance of the plots.\n",
    "\n",
    "The Pyplot module of Matplotlib is a sublibrary that provides a simple interface for creating plots and charts. \n",
    "Some of the most common plots that can be plotted using the Pyplot module of Matplotlib are:\n",
    "\n",
    "Line plots - Line plots are used to represent the relationship between two variables.\n",
    "             The pyplot module can be used to create line plots of data.\n",
    "\n",
    "Scatter plots - Scatter plots are used to represent the relationship between two variables where one variable is \n",
    "                continuous and the other variable is categorical. The pyplot module can be used to create scatter plots of data.\n",
    "\n",
    "Histograms - Histograms are used to represent the distribution of a dataset. \n",
    "             The pyplot module can be used to create histograms of data.\n",
    "\n",
    "Bar plots - Bar plots are used to represent the comparison of a categorical variable across different groups. \n",
    "            The pyplot module can be used to create bar plots of data.\n",
    "\n",
    "Pie charts - Pie charts are used to represent the proportion of different categories in a dataset. \n",
    "             The pyplot module can be used to create pie charts of data."
   ]
  },
  {
   "cell_type": "code",
   "execution_count": null,
   "id": "33a4d0c0",
   "metadata": {},
   "outputs": [],
   "source": [
    "#Ans 2 What is a scatter plot? Use the following code to generate data for x and y. Using this generated data\n",
    "# plot a scatter plot.\n",
    "# import numpy as np\n",
    "# np.random.seed(3)\n",
    "# x = 3 + np.random.normal(0, 2, 50)\n",
    "# y = 3 + np.random.normal(0, 2, len(x))\n",
    "\n",
    "# Note: Also add title, xlabel, and ylabel to the plot.\n",
    "\n",
    "\n",
    "A scatter plot is a type of plot used to display the relationship between two continuous variables. \n",
    "It is created by plotting one variable on the x-axis and the other variable on the y-axis, and then placing \n",
    "a dot or marker at each coordinate pair. Scatter plots are useful for identifying patterns or trends in the \n",
    "data and for detecting outliers or unusual observations."
   ]
  },
  {
   "cell_type": "code",
   "execution_count": 4,
   "id": "21060a3f",
   "metadata": {},
   "outputs": [
    {
     "data": {
      "image/png": "[encoded data removed]",
      "text/plain": [
       "<Figure size 432x288 with 1 Axes>"
      ]
     },
     "metadata": {
      "needs_background": "light"
     },
     "output_type": "display_data"
    }
   ],
   "source": [
    "import numpy as np\n",
    "import matplotlib.pyplot as plt\n",
    "\n",
    "np.random.seed(3)\n",
    "x = 3 + np.random.normal(0, 2, 50)\n",
    "y = 3 + np.random.normal(0, 2, len(x))\n",
    "\n",
    "plt.scatter(x, y)\n",
    "plt.title(\"Scatter plot of x and y\")\n",
    "plt.xlabel(\"x\")\n",
    "plt.ylabel(\"y\")\n",
    "plt.show()"
   ]
  },
  {
   "cell_type": "code",
   "execution_count": null,
   "id": "4b74f203",
   "metadata": {},
   "outputs": [],
   "source": [
    "#Ans3 Why is the subplot() function used? Draw four line plots using the subplot() function.\n",
    "# Use the following data:\n",
    "# import numpy as np\n",
    "# For line 1: x = np.array([0, 1, 2, 3, 4, 5]) and y = np.array([0, 100, 200, 300, 400, 500])\n",
    "# For line 2: x = np.array([0, 1, 2, 3, 4, 5]) and y = np.array([50, 20, 40, 20, 60, 70])\n",
    "# For line 3: x = np.array([0, 1, 2, 3, 4, 5]) and y = np.array([10, 20, 30, 40, 50, 60])\n",
    "# For line 4: x = np.array([0, 1, 2, 3, 4, 5]) and y = np.array([200, 350, 250, 550, 450, 150])"
   ]
  },
  {
   "cell_type": "code",
   "execution_count": null,
   "id": "e806f5ab",
   "metadata": {},
   "outputs": [],
   "source": [
    "The subplot() function in Matplotlib is used to create multiple plots in a single figure. \n",
    "It allows us to divide the figure into a grid of rows and columns, and specify which plot should be created in which grid cell.\n",
    "\n",
    "The subplot() function takes three arguments: the number of rows in the grid, the number of columns in the grid, \n",
    "and the index of the current plot. The index starts from 1 in the top-left corner and increases from left to right and top to bottom."
   ]
  },
  {
   "cell_type": "code",
   "execution_count": 6,
   "id": "7557d2d0",
   "metadata": {},
   "outputs": [
    {
     "data": {
      "image/png": "[encoded data removed]",
      "text/plain": [
       "<Figure size 432x288 with 4 Axes>"
      ]
     },
     "metadata": {
      "needs_background": "light"
     },
     "output_type": "display_data"
    }
   ],
   "source": [
    "import numpy as np\n",
    "import matplotlib.pyplot as plt\n",
    "\n",
    "x1 = np.array([0, 1, 2, 3, 4, 5])\n",
    "y1 = np.array([0, 100, 200, 300, 400, 500])\n",
    "\n",
    "x2 = np.array([0, 1, 2, 3, 4, 5])\n",
    "y2 = np.array([50, 20, 40, 20, 60, 70])\n",
    "\n",
    "x3 = np.array([0, 1, 2, 3, 4, 5])\n",
    "y3 = np.array([10, 20, 30, 40, 50, 60])\n",
    "\n",
    "x4 = np.array([0, 1, 2, 3, 4, 5])\n",
    "y4 = np.array([200, 350, 250, 550, 450, 150])\n",
    "\n",
    "fig, axs = plt.subplots(2, 2)\n",
    "\n",
    "axs[0, 0].plot(x1, y1)\n",
    "axs[0, 0].set_title('Line 1')\n",
    "\n",
    "axs[0, 1].plot(x2, y2)\n",
    "axs[0, 1].set_title('Line 2')\n",
    "\n",
    "axs[1, 0].plot(x3, y3)\n",
    "axs[1, 0].set_title('Line 3')\n",
    "\n",
    "axs[1, 1].plot(x4, y4)\n",
    "axs[1, 1].set_title('Line 4')\n",
    "\n",
    "fig.suptitle('Four line plots')\n",
    "\n",
    "plt.show()\n"
   ]
  },
  {
   "cell_type": "code",
   "execution_count": null,
   "id": "4ec4bf9e",
   "metadata": {},
   "outputs": [],
   "source": [
    "#Ans 4 What is a bar plot? Why is it used? Using the following data plot a bar plot and a horizontal bar plot.\n",
    "# import numpy as np\n",
    "# company = np.array([\"Apple\", \"Microsoft\", \"Google\", \"AMD\"])\n",
    "# profit = np.array([3000, 8000, 1000, 10000])"
   ]
  },
  {
   "cell_type": "code",
   "execution_count": null,
   "id": "76ccdcdf",
   "metadata": {},
   "outputs": [],
   "source": [
    "A bar plot is a type of graph that represents categorical data with rectangular bars. \n",
    "The height or length of each bar represents the value or frequency of the corresponding category. \n",
    "Bar plots are commonly used to compare and visualize the distribution or relationship between different \n",
    "categories or groups of data.\n",
    "\n",
    "Bar plots are useful because they can easily display the differences between categorical data and allow for easy \n",
    "comparisons between categories. They are often used to display data such as counts, frequencies, percentages, and averages. \n",
    "Bar plots can also be used to compare the same category across different groups or to show the change of a categorical variable \n",
    "over time."
   ]
  },
  {
   "cell_type": "code",
   "execution_count": 9,
   "id": "da80e3a9",
   "metadata": {},
   "outputs": [
    {
     "data": {
      "text/plain": [
       "<BarContainer object of 4 artists>"
      ]
     },
     "execution_count": 9,
     "metadata": {},
     "output_type": "execute_result"
    },
    {
     "data": {
      "image/png": "[encoded data removed]",
      "text/plain": [
       "<Figure size 432x288 with 1 Axes>"
      ]
     },
     "metadata": {
      "needs_background": "light"
     },
     "output_type": "display_data"
    }
   ],
   "source": [
    "import numpy as np\n",
    "import matplotlib.pyplot as plt\n",
    "company = np.array([\"Apple\", \"Microsoft\", \"Google\", \"AMD\"])\n",
    "profit = np.array([3000, 8000, 1000, 10000])\n",
    "plt.barh(company,profit)"
   ]
  },
  {
   "cell_type": "code",
   "execution_count": null,
   "id": "42dfbc66",
   "metadata": {},
   "outputs": [],
   "source": [
    "#Ans 5 What is a box plot? Why is it used? Using the following data plot a box plot.\n",
    "# box1 = np.random.normal(100, 10, 200)\n",
    "# box2 = np.random.normal(90, 20, 200)"
   ]
  },
  {
   "cell_type": "code",
   "execution_count": null,
   "id": "697b1cec",
   "metadata": {},
   "outputs": [],
   "source": [
    "A box plot is a type of graph that displays the distribution of a dataset through five statistics: \n",
    "the minimum value, the first quartile (Q1), the median, the third quartile (Q3), and the maximum value. \n",
    "The box in the plot represents the interquartile range (IQR) between the first and third quartiles, \n",
    "while the whiskers extend from the box to the minimum and maximum values, excluding any outliers.\n",
    "\n",
    "Box plots are used to summarize and visualize the distribution of a dataset, especially when comparing multiple datasets \n",
    "or groups. They can provide information on the range of values, the central tendency, and the spread of the data, as well \n",
    "as any outliers. Box plots can also be used to identify any differences or similarities between the distributions of different \n",
    "groups."
   ]
  },
  {
   "cell_type": "code",
   "execution_count": 13,
   "id": "4564cc5c",
   "metadata": {},
   "outputs": [
    {
     "data": {
      "image/png": "[encoded data removed]",
      "text/plain": [
       "<Figure size 432x288 with 1 Axes>"
      ]
     },
     "metadata": {
      "needs_background": "light"
     },
     "output_type": "display_data"
    }
   ],
   "source": [
    "import numpy as np\n",
    "import matplotlib.pyplot as plt\n",
    "\n",
    "box1 = np.random.normal(100, 10, 200)\n",
    "box2 = np.random.normal(90, 20, 200)\n",
    "\n",
    "data = [box1, box2]\n",
    "\n",
    "plt.boxplot(data)\n",
    "\n",
    "plt.title('Box Plot Example')\n",
    "plt.xlabel('Data')\n",
    "plt.ylabel('Values')\n",
    "\n",
    "plt.show()\n"
   ]
  },
  {
   "cell_type": "code",
   "execution_count": null,
   "id": "ad4e8fcc",
   "metadata": {},
   "outputs": [],
   "source": []
  }
 ],
 "metadata": {
  "kernelspec": {
   "display_name": "Python 3 (ipykernel)",
   "language": "python",
   "name": "python3"
  },
  "language_info": {
   "codemirror_mode": {
    "name": "ipython",
    "version": 3
   },
   "file_extension": ".py",
   "mimetype": "text/x-python",
   "name": "python",
   "nbconvert_exporter": "python",
   "pygments_lexer": "ipython3",
   "version": "3.9.12"
  }
 },
 "nbformat": 4,
 "nbformat_minor": 5
}
