{
 "cells": [
  {
   "cell_type": "code",
   "execution_count": null,
   "id": "42d551e0",
   "metadata": {},
   "outputs": [],
   "source": [
    "Q1. Multiprocessing in Python refers to the ability of a program to create and execute multiple processes concurrently. Each \n",
    "process has its own memory space and resources, allowing them to run independently of each other. Multiprocessing is useful for\n",
    "tasks that can be parallelized, such as CPU-bound tasks or tasks that involve heavy computation. It can significantly improve \n",
    "the performance of applications by leveraging multiple CPU cores.\n",
    "\n",
    "Q2. Differences between multiprocessing and multithreading:\n",
    "\n",
    "Multiprocessing involves the execution of multiple processes concurrently, whereas multithreading involves the execution of \n",
    "multiple threads within the same process.\n",
    "Processes in multiprocessing have their own memory space, while threads in multithreading share the same memory space.\n",
    "Multiprocessing is more suitable for CPU-bound tasks that can benefit from parallel execution across multiple CPU cores, while \n",
    "multithreading is more suitable for I/O-bound tasks that involve waiting for external resources."
   ]
  },
  {
   "cell_type": "code",
   "execution_count": 1,
   "id": "ebdcb324",
   "metadata": {},
   "outputs": [],
   "source": [
    "# Q3. Python code to create a process using the multiprocessing module:\n",
    "\n",
    "import multiprocessing\n",
    "\n",
    "def worker():\n",
    "    print(\"Worker process\")\n",
    "\n",
    "if __name__ == \"__main__\":\n",
    "    process = multiprocessing.Process(target=worker)\n",
    "    process.start()\n",
    "    process.join()"
   ]
  },
  {
   "cell_type": "code",
   "execution_count": null,
   "id": "868c63c1",
   "metadata": {},
   "outputs": [],
   "source": [
    "Q4. A multiprocessing pool in Python is a convenient way to distribute tasks across multiple processes and manage them \n",
    "efficiently. It provides a simple interface for parallelizing tasks by allowing the creation of a pool of worker processes,\n",
    "which can execute tasks concurrently. It is useful for scenarios where a large number of tasks need to be processed in parallel,\n",
    "such as parallelizing CPU-bound computations or processing large datasets."
   ]
  },
  {
   "cell_type": "code",
   "execution_count": null,
   "id": "7b7b0fda",
   "metadata": {},
   "outputs": [],
   "source": [
    "# Q5. To create a pool of worker processes in Python using the multiprocessing module, you can use the Pool class. Here's how you \n",
    "# can create a pool of worker processes:\n",
    "import multiprocessing\n",
    "\n",
    "def worker(num):\n",
    "    print(f\"Worker process {num}\")\n",
    "\n",
    "if __name__ == \"__main__\":\n",
    "    with multiprocessing.Pool(processes=4) as pool:\n",
    "        pool.map(worker, range(4))"
   ]
  },
  {
   "cell_type": "code",
   "execution_count": null,
   "id": "2dba72c9",
   "metadata": {},
   "outputs": [],
   "source": [
    "# Q6. Python program to create 4 processes, each printing a different number using the multiprocessing module:\n",
    "import multiprocessing\n",
    "\n",
    "def print_number(num):\n",
    "    print(f\"Process {num}: {num}\")\n",
    "\n",
    "if __name__ == \"__main__\":\n",
    "    processes = []\n",
    "    for i in range(4):\n",
    "        process = multiprocessing.Process(target=print_number, args=(i,))\n",
    "        processes.append(process)\n",
    "        process.start()\n",
    "    \n",
    "    for process in processes:\n",
    "        process.join()"
   ]
  },
  {
   "cell_type": "code",
   "execution_count": null,
   "id": "ae828be7",
   "metadata": {},
   "outputs": [],
   "source": []
  }
 ],
 "metadata": {
  "kernelspec": {
   "display_name": "Python 3 (ipykernel)",
   "language": "python",
   "name": "python3"
  },
  "language_info": {
   "codemirror_mode": {
    "name": "ipython",
    "version": 3
   },
   "file_extension": ".py",
   "mimetype": "text/x-python",
   "name": "python",
   "nbconvert_exporter": "python",
   "pygments_lexer": "ipython3",
   "version": "3.11.5"
  }
 },
 "nbformat": 4,
 "nbformat_minor": 5
}
