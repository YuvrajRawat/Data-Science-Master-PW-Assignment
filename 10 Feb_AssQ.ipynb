{
 "cells": [
  {
   "cell_type": "code",
   "execution_count": null,
   "id": "cd8fb721",
   "metadata": {},
   "outputs": [],
   "source": [
    "# Q1. The function used to open a file in Python is open(). There are several modes in which a file can be opened:\n",
    "# #\n",
    "# r: Opens a file for reading only. The file pointer is placed at the beginning of the file.\n",
    "# w: Opens a file for writing only. Overwrites the file if the file exists. If the file does not exist, creates a new file for writing.\n",
    "# a: Opens a file for appending. The file pointer is at the end of the file if the file exists. If the file does not exist, it creates a new file for writing.\n",
    "# b: Opens a file in binary mode.\n",
    "# +: Opens a file for both reading and writing."
   ]
  },
  {
   "cell_type": "code",
   "execution_count": null,
   "id": "30424a19",
   "metadata": {},
   "outputs": [],
   "source": [
    "# Q2. The close() function is used to close a file in Python. It is important to close a file after opening it because it releases\n",
    "# the resources associated with the file, such as memory and system file descriptors. Failing to close a file can lead to resource\n",
    "# leaks and may cause issues with file locking."
   ]
  },
  {
   "cell_type": "code",
   "execution_count": 1,
   "id": "9fa81fbc",
   "metadata": {},
   "outputs": [
    {
     "name": "stdout",
     "output_type": "stream",
     "text": [
      "I want to become a Data Scientist\n"
     ]
    }
   ],
   "source": [
    "# Q3. Here's a Python program to create a text file, write a string to it, close the file, and then read its contents:\n",
    "# Create a text file and write to it\n",
    "with open('data_scientist.txt', 'w') as file:\n",
    "    file.write('I want to become a Data Scientist')\n",
    "\n",
    "# Open the file in read mode and print its contents\n",
    "with open('data_scientist.txt', 'r') as file:\n",
    "    content = file.read()\n",
    "    print(content)"
   ]
  },
  {
   "cell_type": "code",
   "execution_count": 2,
   "id": "91b9027d",
   "metadata": {},
   "outputs": [
    {
     "name": "stdout",
     "output_type": "stream",
     "text": [
      "I want to become a Data Scientist\n",
      "I want to become a Data Scientist\n",
      "['I want to become a Data Scientist']\n"
     ]
    }
   ],
   "source": [
    "# Q4.\n",
    "\n",
    "# read(): Reads the entire contents of the file and returns it as a single string.\n",
    "# readline(): Reads a single line from the file.\n",
    "# readlines(): Reads all the lines from the file and returns them as a list of strings.\n",
    "\n",
    "# Open the file\n",
    "with open('data_scientist.txt', 'r') as file:\n",
    "    # Reading entire contents using read()\n",
    "    content = file.read()\n",
    "    print(content)\n",
    "\n",
    "    # Reading a single line using readline()\n",
    "    file.seek(0)  # Reset file pointer to beginning\n",
    "    line = file.readline()\n",
    "    print(line)\n",
    "\n",
    "    # Reading all lines using readlines()\n",
    "    file.seek(0)  # Reset file pointer to beginning\n",
    "    lines = file.readlines()\n",
    "    print(lines)"
   ]
  },
  {
   "cell_type": "code",
   "execution_count": 3,
   "id": "78086e91",
   "metadata": {},
   "outputs": [
    {
     "name": "stdout",
     "output_type": "stream",
     "text": [
      "I want to become a Data Scientist\n"
     ]
    }
   ],
   "source": [
    "# Q5. The with statement is used with open() to ensure that the file is properly closed after its suite finishes, even if an \n",
    "# exception is raised during the execution. The advantage of using with statement with open() is that it simplifies the code and \n",
    "# ensures proper resource management.\n",
    "with open('data_scientist.txt', 'r') as file:\n",
    "    content = file.read()\n",
    "    print(content)\n",
    "# File is automatically closed after the block, even if an exception occurs"
   ]
  },
  {
   "cell_type": "code",
   "execution_count": 4,
   "id": "b84664cb",
   "metadata": {},
   "outputs": [],
   "source": [
    "# Q6.\n",
    "\n",
    "# write(): Writes the specified string to the file.\n",
    "# writelines(): Writes a list of strings to the file.\n",
    "# Open a file for writing\n",
    "with open('output.txt', 'w') as file:\n",
    "    # Writing a single string using write()\n",
    "    file.write('Hello, world!\\n')\n",
    "\n",
    "    # Writing multiple lines using writelines()\n",
    "    lines = ['Line 1\\n', 'Line 2\\n', 'Line 3\\n']\n",
    "    file.writelines(lines)"
   ]
  },
  {
   "cell_type": "code",
   "execution_count": null,
   "id": "ad33c40f",
   "metadata": {},
   "outputs": [],
   "source": []
  }
 ],
 "metadata": {
  "kernelspec": {
   "display_name": "Python 3 (ipykernel)",
   "language": "python",
   "name": "python3"
  },
  "language_info": {
   "codemirror_mode": {
    "name": "ipython",
    "version": 3
   },
   "file_extension": ".py",
   "mimetype": "text/x-python",
   "name": "python",
   "nbconvert_exporter": "python",
   "pygments_lexer": "ipython3",
   "version": "3.11.5"
  }
 },
 "nbformat": 4,
 "nbformat_minor": 5
}
