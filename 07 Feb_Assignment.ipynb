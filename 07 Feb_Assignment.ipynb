{
 "cells": [
  {
   "cell_type": "code",
   "execution_count": 23,
   "id": "b68cf556",
   "metadata": {},
   "outputs": [],
   "source": [
    "#Ans. 1\n",
    "\n",
    "import re\n",
    "\n",
    "def validate_password(password):\n",
    "    if len(password) != 10:\n",
    "        return \"Invalid Password\"\n",
    "    elif len(password) > 10:\n",
    "        upper_count = len(re.findall(r'[A-Z]', password))\n",
    "        lower_count = len(re.findall(r'[a-z]', password))\n",
    "        digit_count = len(re.findall(r'[0-9]', password))\n",
    "        special_count = len(re.findall(r'[^\\w\\s]', password))\n",
    "        if upper_count <2 or lower_count < 2 or digit_count < 1 or special_count < 3:\n",
    "            return \"Invalid Password\"\n",
    "    return \"Valid Password\""
   ]
  },
  {
   "cell_type": "code",
   "execution_count": 24,
   "id": "3a0b20e1",
   "metadata": {},
   "outputs": [
    {
     "data": {
      "text/plain": [
       "'Valid Password'"
      ]
     },
     "execution_count": 24,
     "metadata": {},
     "output_type": "execute_result"
    }
   ],
   "source": [
    "validate_password(\"aTAad2\\\\[am\")"
   ]
  },
  {
   "cell_type": "code",
   "execution_count": 25,
   "id": "a9a8118c",
   "metadata": {},
   "outputs": [],
   "source": [
    "#Ans. 2"
   ]
  },
  {
   "cell_type": "code",
   "execution_count": 26,
   "id": "0e03c3a7",
   "metadata": {},
   "outputs": [
    {
     "name": "stdout",
     "output_type": "stream",
     "text": [
      "[1, 3, 5, 7, 9]\n"
     ]
    }
   ],
   "source": [
    "# 1. Filter odd numbers from the given list.\n",
    "lst = [1, 2, 3, 4, 5, 6, 7, 8, 9, 10]\n",
    "filtered_lst = list(filter(lambda x: x % 2 != 0, lst))\n",
    "print(filtered_lst) "
   ]
  },
  {
   "cell_type": "code",
   "execution_count": 32,
   "id": "074fec42",
   "metadata": {},
   "outputs": [
    {
     "name": "stdout",
     "output_type": "stream",
     "text": [
      "True\n"
     ]
    }
   ],
   "source": [
    "# Check if a given number is evenY\n",
    "num = 4\n",
    "is_even = check_even(num)\n",
    "check_even = lambda x: x % 2 == 0\n",
    "print(is_even) "
   ]
  },
  {
   "cell_type": "code",
   "execution_count": 39,
   "id": "e7ae461e",
   "metadata": {},
   "outputs": [
    {
     "name": "stdout",
     "output_type": "stream",
     "text": [
      "1.0\n",
      "1.2599210498948732\n",
      "1.4422495703074083\n",
      "1.5874010519681994\n",
      "1.7099759466766968\n",
      "1.8171205928321397\n",
      "1.912931182772389\n",
      "2.0\n",
      "2.080083823051904\n",
      "2.154434690031884\n"
     ]
    }
   ],
   "source": [
    "# Find the cube root of numbers from 1 to 10\n",
    "import math\n",
    "\n",
    "cube_root = lambda x: math.pow(x, 1/3)\n",
    "\n",
    "for i in range(1, 11):\n",
    "    print(cube_root(i))\n"
   ]
  },
  {
   "cell_type": "code",
   "execution_count": 44,
   "id": "e3f5b6ae",
   "metadata": {},
   "outputs": [
    {
     "data": {
      "text/plain": [
       "[1, 4, 9, 16, 25, 36, 49, 64, 81, 100]"
      ]
     },
     "execution_count": 44,
     "metadata": {},
     "output_type": "execute_result"
    }
   ],
   "source": [
    "# Find the squares of numbers from 1 to 10\n",
    "lst = [1, 2, 3, 4, 5, 6, 7, 8, 9, 10]\n",
    "def sq(x):\n",
    "    return x**2\n",
    "list(map(sq,lst))"
   ]
  },
  {
   "cell_type": "code",
   "execution_count": null,
   "id": "9b950f68",
   "metadata": {},
   "outputs": [],
   "source": []
  }
 ],
 "metadata": {
  "kernelspec": {
   "display_name": "Python 3 (ipykernel)",
   "language": "python",
   "name": "python3"
  },
  "language_info": {
   "codemirror_mode": {
    "name": "ipython",
    "version": 3
   },
   "file_extension": ".py",
   "mimetype": "text/x-python",
   "name": "python",
   "nbconvert_exporter": "python",
   "pygments_lexer": "ipython3",
   "version": "3.9.12"
  }
 },
 "nbformat": 4,
 "nbformat_minor": 5
}
