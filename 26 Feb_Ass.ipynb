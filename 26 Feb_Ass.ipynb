{
 "cells": [
  {
   "cell_type": "code",
   "execution_count": null,
   "id": "274f36d9",
   "metadata": {},
   "outputs": [],
   "source": [
    "Ans.1  Yes, there is a difference in the data type of the list_ and array_list variables. list_ is a Python list, and array_list\n",
    "is a NumPy array. You can print the data types of both variables using the type() function in Python. Here's the code to do that\n",
    ":"
   ]
  },
  {
   "cell_type": "code",
   "execution_count": 1,
   "id": "23216316",
   "metadata": {},
   "outputs": [
    {
     "name": "stdout",
     "output_type": "stream",
     "text": [
      "Data type of list_: <class 'list'>\n",
      "Data type of array_list: <class 'numpy.ndarray'>\n"
     ]
    }
   ],
   "source": [
    "import numpy as np\n",
    "\n",
    "list_ = ['1', '2', '3', '4', '5']\n",
    "array_list = np.array(object=list_)\n",
    "\n",
    "print(\"Data type of list_:\", type(list_))\n",
    "print(\"Data type of array_list:\", type(array_list))"
   ]
  },
  {
   "cell_type": "code",
   "execution_count": null,
   "id": "64a4b06f",
   "metadata": {},
   "outputs": [],
   "source": [
    "Ans.2  You can use a loop to iterate through each element of both the list_ and array_list variables and print the data type of \n",
    "each element. Here's the code to do that:"
   ]
  },
  {
   "cell_type": "code",
   "execution_count": 2,
   "id": "5e591957",
   "metadata": {},
   "outputs": [
    {
     "name": "stdout",
     "output_type": "stream",
     "text": [
      "Data types of elements in list_:\n",
      "<class 'str'>\n",
      "<class 'str'>\n",
      "<class 'str'>\n",
      "<class 'str'>\n",
      "<class 'str'>\n",
      "\n",
      "Data types of elements in array_list:\n",
      "<class 'numpy.str_'>\n",
      "<class 'numpy.str_'>\n",
      "<class 'numpy.str_'>\n",
      "<class 'numpy.str_'>\n",
      "<class 'numpy.str_'>\n"
     ]
    }
   ],
   "source": [
    "import numpy as np\n",
    "\n",
    "list_ = ['1', '2', '3', '4', '5']\n",
    "array_list = np.array(object=list_)\n",
    "\n",
    "# Print data types of elements in list_\n",
    "print(\"Data types of elements in list_:\")\n",
    "for element in list_:\n",
    "    print(type(element))\n",
    "\n",
    "# Print data types of elements in array_list\n",
    "print(\"\\nData types of elements in array_list:\")\n",
    "for element in array_list:\n",
    "    print(type(element))"
   ]
  },
  {
   "cell_type": "code",
   "execution_count": null,
   "id": "f31c433d",
   "metadata": {},
   "outputs": [],
   "source": [
    "Ans.3 Yes, there will be a difference in the data types of the elements present in list_ and array_list after the change in \n",
    "array_list where we specify the data type as int. In list_, the elements are originally strings, but in array_list, the elements\n",
    "will be converted to integers.\n",
    "Here's the code to print the data types of each and every element present in both variables list_ and array_list after the \n",
    "change:"
   ]
  },
  {
   "cell_type": "code",
   "execution_count": 3,
   "id": "c3a5ba58",
   "metadata": {},
   "outputs": [
    {
     "name": "stdout",
     "output_type": "stream",
     "text": [
      "Data types of elements in list_:\n",
      "<class 'str'>\n",
      "<class 'str'>\n",
      "<class 'str'>\n",
      "<class 'str'>\n",
      "<class 'str'>\n",
      "\n",
      "Data types of elements in array_list:\n",
      "<class 'numpy.int32'>\n",
      "<class 'numpy.int32'>\n",
      "<class 'numpy.int32'>\n",
      "<class 'numpy.int32'>\n",
      "<class 'numpy.int32'>\n"
     ]
    }
   ],
   "source": [
    "import numpy as np\n",
    "\n",
    "list_ = ['1', '2', '3', '4', '5']\n",
    "array_list = np.array(object=list_, dtype=int)\n",
    "\n",
    "# Print data types of elements in list_\n",
    "print(\"Data types of elements in list_:\")\n",
    "for element in list_:\n",
    "    print(type(element))\n",
    "\n",
    "# Print data types of elements in array_list\n",
    "print(\"\\nData types of elements in array_list:\")\n",
    "for element in array_list:\n",
    "    print(type(element))"
   ]
  },
  {
   "cell_type": "code",
   "execution_count": null,
   "id": "c0047e90",
   "metadata": {},
   "outputs": [],
   "source": [
    "Ans.4  You can find the shape and size of the NumPy array num_array using the shape and size attributes, respectively. Here's \n",
    "the code to do that:"
   ]
  },
  {
   "cell_type": "code",
   "execution_count": 4,
   "id": "183f30d6",
   "metadata": {},
   "outputs": [
    {
     "name": "stdout",
     "output_type": "stream",
     "text": [
      "Shape of num_array: (2, 3)\n",
      "Size of num_array: 6\n"
     ]
    }
   ],
   "source": [
    "import numpy as np\n",
    "\n",
    "num_list = [[1, 2, 3], [4, 5, 6]]\n",
    "num_array = np.array(object=num_list)\n",
    "\n",
    "# (i) Find the shape of num_array\n",
    "shape = num_array.shape\n",
    "print(\"Shape of num_array:\", shape)\n",
    "\n",
    "# (ii) Find the size of num_array\n",
    "size = num_array.size\n",
    "print(\"Size of num_array:\", size)"
   ]
  },
  {
   "cell_type": "code",
   "execution_count": null,
   "id": "ea294c31",
   "metadata": {},
   "outputs": [],
   "source": [
    "Ans.5  You can create a NumPy array of a 3x3 matrix containing zeros only using the numpy.zeros function. Here's the code to do \n",
    "that:"
   ]
  },
  {
   "cell_type": "code",
   "execution_count": 5,
   "id": "39a1fb14",
   "metadata": {},
   "outputs": [
    {
     "name": "stdout",
     "output_type": "stream",
     "text": [
      "[[0. 0. 0.]\n",
      " [0. 0. 0.]\n",
      " [0. 0. 0.]]\n"
     ]
    }
   ],
   "source": [
    "import numpy as np\n",
    "\n",
    "# Create a 3x3 array filled with zeros\n",
    "zero_matrix = np.zeros((3, 3))\n",
    "\n",
    "print(zero_matrix)"
   ]
  },
  {
   "cell_type": "code",
   "execution_count": null,
   "id": "0f9e1928",
   "metadata": {},
   "outputs": [],
   "source": [
    "Ans.6  You can create a 5x5 identity matrix using the numpy.eye function. Here's the code to create an identity matrix of shape \n",
    "(5,5):"
   ]
  },
  {
   "cell_type": "code",
   "execution_count": 6,
   "id": "f6ba019a",
   "metadata": {},
   "outputs": [
    {
     "name": "stdout",
     "output_type": "stream",
     "text": [
      "[[1. 0. 0. 0. 0.]\n",
      " [0. 1. 0. 0. 0.]\n",
      " [0. 0. 1. 0. 0.]\n",
      " [0. 0. 0. 1. 0.]\n",
      " [0. 0. 0. 0. 1.]]\n"
     ]
    }
   ],
   "source": [
    "import numpy as np\n",
    "\n",
    "# Create a 5x5 identity matrix\n",
    "identity_matrix = np.eye(5)\n",
    "\n",
    "print(identity_matrix)"
   ]
  }
 ],
 "metadata": {
  "kernelspec": {
   "display_name": "Python 3 (ipykernel)",
   "language": "python",
   "name": "python3"
  },
  "language_info": {
   "codemirror_mode": {
    "name": "ipython",
    "version": 3
   },
   "file_extension": ".py",
   "mimetype": "text/x-python",
   "name": "python",
   "nbconvert_exporter": "python",
   "pygments_lexer": "ipython3",
   "version": "3.11.4"
  }
 },
 "nbformat": 4,
 "nbformat_minor": 5
}
