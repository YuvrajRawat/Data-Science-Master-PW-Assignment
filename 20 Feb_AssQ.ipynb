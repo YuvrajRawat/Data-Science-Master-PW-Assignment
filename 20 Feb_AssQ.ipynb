{
 "cells": [
  {
   "cell_type": "code",
   "execution_count": null,
   "id": "3310ca66",
   "metadata": {},
   "outputs": [],
   "source": [
    "Q1. Explain GET and POST methods.\n",
    "\n",
    "GET Method: The GET method is used to request data from a specified resource. It sends the data in the URL query string. It is a\n",
    "    simple and lightweight method, suitable for retrieving data from the server. GET requests can be cached and bookmarked, and \n",
    "    they have limitations on the amount of data that can be sent.\n",
    "\n",
    "POST Method: The POST method is used to submit data to be processed to a specified resource. It sends the data in the HTTP \n",
    "    request body. It is suitable for sending large amounts of data and sensitive information securely. POST requests are not \n",
    "    cached and cannot be bookmarked, and they do not have limitations on the amount of data that can be sent.\n",
    "\n",
    "Q2. Why is request used in Flask?\n",
    "\n",
    "The request object in Flask is used to access incoming request data such as form data, query parameters, cookies, headers, and \n",
    "files uploaded with the request. It allows the Flask application to interact with the data sent by the client in the HTTP \n",
    "request.\n",
    "Q3. Why is redirect() used in Flask?\n",
    "\n",
    "The redirect() function in Flask is used to redirect the client to a different URL. It sends an HTTP 302 status code to the \n",
    "client along with the new URL to redirect to. Redirects are commonly used to navigate users to a different page after submitting\n",
    "a form or performing some action.\n",
    "Q4. What are templates in Flask? Why is the render_template() function used?\n",
    "\n",
    "Templates in Flask are HTML files that contain placeholders for dynamic content. They allow developers to separate the \n",
    "presentation logic from the application logic by defining the structure and layout of web pages separately from the Python code.\n",
    "\n",
    "The render_template() function in Flask is used to render templates by passing them as arguments to the function. It\n",
    "automatically loads the specified template file from the templates directory and processes any template variables passed to it.\n",
    "This function allows Flask to dynamically generate HTML content based on the provided data and template."
   ]
  },
  {
   "cell_type": "code",
   "execution_count": null,
   "id": "b990e692",
   "metadata": {},
   "outputs": [],
   "source": [
    "# Q5. Create a simple API. Use Postman to test it. Attach the screenshot of the output in the Jupyter Notebook.\n",
    "from flask import Flask, jsonify\n",
    "\n",
    "app = Flask(__name__)\n",
    "\n",
    "@app.route('/api', methods=['GET'])\n",
    "def get_data():\n",
    "    data = {'message': 'This is a simple API'}\n",
    "    return jsonify(data)\n",
    "\n",
    "if __name__ == '__main__':\n",
    "    app.run(debug=True)"
   ]
  }
 ],
 "metadata": {
  "kernelspec": {
   "display_name": "Python 3 (ipykernel)",
   "language": "python",
   "name": "python3"
  },
  "language_info": {
   "codemirror_mode": {
    "name": "ipython",
    "version": 3
   },
   "file_extension": ".py",
   "mimetype": "text/x-python",
   "name": "python",
   "nbconvert_exporter": "python",
   "pygments_lexer": "ipython3",
   "version": "3.11.5"
  }
 },
 "nbformat": 4,
 "nbformat_minor": 5
}
