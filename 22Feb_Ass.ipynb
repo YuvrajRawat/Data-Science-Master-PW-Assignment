{
 "cells": [
  {
   "cell_type": "code",
   "execution_count": 4,
   "id": "8990fed5",
   "metadata": {},
   "outputs": [],
   "source": [
    "#Ans1 Write a python program to extract the video URL of the first five videos.\n",
    "import requests\n",
    "from bs4 import BeautifulSoup"
   ]
  },
  {
   "cell_type": "code",
   "execution_count": 5,
   "id": "911c2c9e",
   "metadata": {},
   "outputs": [],
   "source": [
    "url = \"https://www.youtube.com/@PW-Foundation/videos\""
   ]
  },
  {
   "cell_type": "code",
   "execution_count": 7,
   "id": "310a9641",
   "metadata": {},
   "outputs": [],
   "source": [
    "response = requests.get(url)\n",
    "html_content = response.content"
   ]
  },
  {
   "cell_type": "code",
   "execution_count": 8,
   "id": "2f13b88b",
   "metadata": {},
   "outputs": [],
   "source": [
    "soup = BeautifulSoup(html_content, \"html.parser\")\n",
    "\n",
    "video_links = []\n",
    "for link in soup.find_all(\"a\"):\n",
    "    href = link.get(\"href\")\n",
    "    if href.startswith(\"/watch\") and len(video_links) < 5:\n",
    "        video_links.append(\"https://www.youtube.com\" + href)\n",
    "for link in video_links:\n",
    "    print(link)"
   ]
  },
  {
   "cell_type": "code",
   "execution_count": 9,
   "id": "1c6705d7",
   "metadata": {},
   "outputs": [],
   "source": [
    "#Ans2 Write a python program to extract the URL of the video thumbnails of the first five videos.\n",
    "import requests\n",
    "from bs4 import BeautifulSoup"
   ]
  },
  {
   "cell_type": "code",
   "execution_count": 10,
   "id": "c9c9e185",
   "metadata": {},
   "outputs": [],
   "source": [
    "url = \"https://www.youtube.com/@PW-Foundation/videos\""
   ]
  },
  {
   "cell_type": "code",
   "execution_count": 12,
   "id": "7297ffe6",
   "metadata": {},
   "outputs": [],
   "source": [
    "response = requests.get(url)\n",
    "html_content = response.content\n",
    "\n",
    "soup = BeautifulSoup(html_content, \"html.parser\")\n",
    "\n",
    "videos = []\n",
    "for link in soup.find_all(\"a\"):\n",
    "    href = link.get(\"href\")\n",
    "    if href.startswith(\"/watch\") and len(videos) < 5:\n",
    "        video_link = \"https://www.youtube.com\" + href\n",
    "        thumbnail_url = link.find_previous(\"yt-img-shadow\").find(\"img\")[\"src\"]\n",
    "        videos.append({\"url\": video_link, \"thumbnail\": thumbnail_url})\n",
    "\n",
    "for video in videos:\n",
    "    print(\"Video URL:\", video[\"url\"])\n",
    "    print(\"Thumbnail URL:\", video[\"thumbnail\"])\n"
   ]
  },
  {
   "cell_type": "code",
   "execution_count": 13,
   "id": "a293c212",
   "metadata": {},
   "outputs": [],
   "source": [
    "#Ans3 Write a python program to extract the title of the first five videos.\n",
    "import requests\n",
    "from bs4 import BeautifulSoup\n",
    "\n",
    "url = \"https://www.youtube.com/@PW-Foundation/videos\"\n",
    "\n",
    "response = requests.get(url)\n",
    "html_content = response.content\n",
    "\n",
    "soup = BeautifulSoup(html_content, \"html.parser\")\n",
    "\n",
    "videos = []\n",
    "for link in soup.find_all(\"a\"):\n",
    "    href = link.get(\"href\")\n",
    "    if href.startswith(\"/watch\") and len(videos) < 5:\n",
    "        video_link = \"https://www.youtube.com\" + href\n",
    "        title = link.find_next(\"yt-formatted-string\").get_text()\n",
    "        videos.append({\"url\": video_link, \"title\": title})\n",
    "for video in videos:\n",
    "    print(\"Video URL:\", video[\"url\"])\n",
    "    print(\"Title:\", video[\"title\"])\n"
   ]
  },
  {
   "cell_type": "code",
   "execution_count": 14,
   "id": "5db04313",
   "metadata": {},
   "outputs": [],
   "source": [
    "#Ans4 Write a python program to extract the number of views of the first five videos.\n",
    "import requests\n",
    "from bs4 import BeautifulSoup\n",
    "\n",
    "url = \"https://www.youtube.com/@PW-Foundation/videos\"\n",
    "\n",
    "response = requests.get(url)\n",
    "html_content = response.content\n",
    "\n",
    "soup = BeautifulSoup(html_content, \"html.parser\")\n",
    "\n",
    "videos = []\n",
    "for link in soup.find_all(\"a\"):\n",
    "    href = link.get(\"href\")\n",
    "    if href.startswith(\"/watch\") and len(videos) < 5:\n",
    "        video_link = \"https://www.youtube.com\" + href\n",
    "        view_count = link.find_next(\"span\", class_=\"style-scope ytd-grid-video-renderer\").get_text()\n",
    "        videos.append({\"url\": video_link, \"views\": view_count})\n",
    "\n",
    "for video in videos:\n",
    "    print(\"Video URL:\", video[\"url\"])\n",
    "    print(\"View count:\", video[\"views\"])\n"
   ]
  },
  {
   "cell_type": "code",
   "execution_count": 16,
   "id": "9272697e",
   "metadata": {},
   "outputs": [],
   "source": [
    "#Ans5 Write a python program to extract the time of posting of video for the first five videos.\n",
    "import requests\n",
    "from bs4 import BeautifulSoup\n",
    "\n",
    "url = \"https://www.youtube.com/@PW-Foundation/videos\"\n",
    "\n",
    "response = requests.get(url)\n",
    "html_content = response.content\n",
    "\n",
    "soup = BeautifulSoup(html_content, \"html.parser\")\n",
    "\n",
    "videos = []\n",
    "for link in soup.find_all(\"a\"):\n",
    "    href = link.get(\"href\")\n",
    "    if href.startswith(\"/watch\") and len(videos) < 5:\n",
    "        video_link = \"https://www.youtube.com\" + href\n",
    "        posting_time = link.find_next(\"span\", class_=\"style-scope ytd-grid-video-renderer\").find_next(\"span\", class_=\"style-scope ytd-grid-video-renderer\").get_text()\n",
    "        videos.append({\"url\": video_link, \"posting_time\": posting_time})\n",
    "\n",
    "for video in videos:\n",
    "    print(\"Video URL:\", video[\"url\"])\n",
    "    print(\"Posting time:\", video[\"posting_time\"])\n"
   ]
  },
  {
   "cell_type": "code",
   "execution_count": null,
   "id": "54d8765f",
   "metadata": {},
   "outputs": [],
   "source": []
  }
 ],
 "metadata": {
  "kernelspec": {
   "display_name": "Python 3 (ipykernel)",
   "language": "python",
   "name": "python3"
  },
  "language_info": {
   "codemirror_mode": {
    "name": "ipython",
    "version": 3
   },
   "file_extension": ".py",
   "mimetype": "text/x-python",
   "name": "python",
   "nbconvert_exporter": "python",
   "pygments_lexer": "ipython3",
   "version": "3.9.12"
  }
 },
 "nbformat": 4,
 "nbformat_minor": 5
}
