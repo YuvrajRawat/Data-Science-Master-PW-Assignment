{
 "cells": [
  {
   "cell_type": "code",
   "execution_count": 1,
   "id": "2f659b21",
   "metadata": {},
   "outputs": [],
   "source": [
    "#Q1. Here's the implementation of the Vehicle class:\n",
    "class Vehicle:\n",
    "    def __init__(self, name_of_vehicle, max_speed, average_of_vehicle):\n",
    "        self.name_of_vehicle = name_of_vehicle\n",
    "        self.max_speed = max_speed\n",
    "        self.average_of_vehicle = average_of_vehicle"
   ]
  },
  {
   "cell_type": "code",
   "execution_count": 2,
   "id": "21c1a56c",
   "metadata": {},
   "outputs": [],
   "source": [
    "#Q2. Here's the implementation of the Car class, inheriting from the Vehicle class and adding a method seating_capacity:\n",
    "class Car(Vehicle):\n",
    "    def seating_capacity(self, capacity):\n",
    "        return f\"The {self.name_of_vehicle} has a seating capacity of {capacity} passengers.\""
   ]
  },
  {
   "cell_type": "code",
   "execution_count": 3,
   "id": "aa4957e3",
   "metadata": {},
   "outputs": [
    {
     "name": "stdout",
     "output_type": "stream",
     "text": [
      "Method 1 from Parent 1\n",
      "Method 2 from Parent 2\n"
     ]
    }
   ],
   "source": [
    "# Q3. Multiple inheritance refers to a feature in some object-oriented programming languages where a class can inherit attributes \n",
    "# and methods from more than one parent class. Here's an example Python code demonstrating multiple inheritance:\\\n",
    "class Parent1:\n",
    "    def method1(self):\n",
    "        print(\"Method 1 from Parent 1\")\n",
    "\n",
    "\n",
    "class Parent2:\n",
    "    def method2(self):\n",
    "        print(\"Method 2 from Parent 2\")\n",
    "\n",
    "\n",
    "class Child(Parent1, Parent2):\n",
    "    pass\n",
    "\n",
    "# Creating an object of the Child class\n",
    "obj = Child()\n",
    "# Accessing methods from both parent classes\n",
    "obj.method1()  # Output: Method 1 from Parent 1\n",
    "obj.method2()  # Output: Method 2 from Parent 2"
   ]
  },
  {
   "cell_type": "code",
   "execution_count": 4,
   "id": "15108455",
   "metadata": {},
   "outputs": [
    {
     "name": "stdout",
     "output_type": "stream",
     "text": [
      "10\n"
     ]
    }
   ],
   "source": [
    "# Q4. Getters and setters are methods used to access and modify the attributes of a class respectively, providing controlled \n",
    "# access to the class attributes. Here's an example demonstrating getter and setter methods:\n",
    "class Example:\n",
    "    def __init__(self):\n",
    "        self._x = None\n",
    "\n",
    "    def get_x(self):\n",
    "        return self._x\n",
    "\n",
    "    def set_x(self, value):\n",
    "        if value < 0:\n",
    "            print(\"Value cannot be negative.\")\n",
    "        else:\n",
    "            self._x = value\n",
    "\n",
    "# Creating an object of the Example class\n",
    "obj = Example()\n",
    "# Setting the value using the setter method\n",
    "obj.set_x(10)\n",
    "# Getting the value using the getter method\n",
    "print(obj.get_x())  # Output: 10"
   ]
  },
  {
   "cell_type": "code",
   "execution_count": 5,
   "id": "78f62710",
   "metadata": {},
   "outputs": [
    {
     "name": "stdout",
     "output_type": "stream",
     "text": [
      "Method from Child class\n"
     ]
    }
   ],
   "source": [
    "# Q5. Method overriding in Python occurs when a subclass provides a specific implementation of a method that is already defined \n",
    "# in its superclass. Here's an example demonstrating method overriding:\n",
    "class Parent:\n",
    "    def method(self):\n",
    "        print(\"Method from Parent class\")\n",
    "\n",
    "\n",
    "class Child(Parent):\n",
    "    def method(self):\n",
    "        print(\"Method from Child class\")\n",
    "\n",
    "# Creating an object of the Child class\n",
    "obj = Child()\n",
    "# Calling the overridden method\n",
    "obj.method()  # Output: Method from Child class"
   ]
  }
 ],
 "metadata": {
  "kernelspec": {
   "display_name": "Python 3 (ipykernel)",
   "language": "python",
   "name": "python3"
  },
  "language_info": {
   "codemirror_mode": {
    "name": "ipython",
    "version": 3
   },
   "file_extension": ".py",
   "mimetype": "text/x-python",
   "name": "python",
   "nbconvert_exporter": "python",
   "pygments_lexer": "ipython3",
   "version": "3.11.5"
  }
 },
 "nbformat": 4,
 "nbformat_minor": 5
}
