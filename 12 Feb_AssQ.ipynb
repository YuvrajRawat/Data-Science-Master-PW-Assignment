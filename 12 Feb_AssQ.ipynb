{
 "cells": [
  {
   "cell_type": "code",
   "execution_count": null,
   "id": "648435f9",
   "metadata": {},
   "outputs": [],
   "source": [
    "Q1. What is an Exception in Python? Write the difference between Exceptions and Syntax errors.\n",
    "\n",
    "An exception in Python is an event that occurs during the execution of a program that disrupts the normal flow of instructions. \n",
    "When an error occurs, Python raises an exception, which can be caught and handled by the program.\n",
    "\n",
    "The difference between Exceptions and Syntax errors:\n",
    "\n",
    "Exceptions occur during the execution of the program when something unexpected happens, such as division by zero or trying to \n",
    "access a non-existent file. Syntax errors occur when the syntax of the code is incorrect, such as missing parentheses or invalid\n",
    "indentation.\n",
    "Exceptions can be caught and handled by the program using try-except blocks, while syntax errors need to be fixed by correcting \n",
    "the syntax of the code."
   ]
  },
  {
   "cell_type": "code",
   "execution_count": null,
   "id": "2318b660",
   "metadata": {},
   "outputs": [],
   "source": [
    "Q2. What happens when an exception is not handled? Explain with an example.\n",
    "\n",
    "When an exception is not handled, it propagates up the call stack until it reaches the top-level of the program, where it \n",
    "terminates the program and displays an error message."
   ]
  },
  {
   "cell_type": "code",
   "execution_count": 1,
   "id": "762b316d",
   "metadata": {},
   "outputs": [
    {
     "ename": "ZeroDivisionError",
     "evalue": "division by zero",
     "output_type": "error",
     "traceback": [
      "\u001b[1;31m---------------------------------------------------------------------------\u001b[0m",
      "\u001b[1;31mZeroDivisionError\u001b[0m                         Traceback (most recent call last)",
      "Cell \u001b[1;32mIn[1], line 5\u001b[0m\n\u001b[0;32m      2\u001b[0m \u001b[38;5;28;01mdef\u001b[39;00m \u001b[38;5;21mdivide\u001b[39m(x, y):\n\u001b[0;32m      3\u001b[0m     \u001b[38;5;28;01mreturn\u001b[39;00m x \u001b[38;5;241m/\u001b[39m y\n\u001b[1;32m----> 5\u001b[0m result \u001b[38;5;241m=\u001b[39m divide(\u001b[38;5;241m10\u001b[39m, \u001b[38;5;241m0\u001b[39m)\n",
      "Cell \u001b[1;32mIn[1], line 3\u001b[0m, in \u001b[0;36mdivide\u001b[1;34m(x, y)\u001b[0m\n\u001b[0;32m      2\u001b[0m \u001b[38;5;28;01mdef\u001b[39;00m \u001b[38;5;21mdivide\u001b[39m(x, y):\n\u001b[1;32m----> 3\u001b[0m     \u001b[38;5;28;01mreturn\u001b[39;00m x \u001b[38;5;241m/\u001b[39m y\n",
      "\u001b[1;31mZeroDivisionError\u001b[0m: division by zero"
     ]
    }
   ],
   "source": [
    "# Example of an unhandled exception\n",
    "def divide(x, y):\n",
    "    return x / y\n",
    "\n",
    "result = divide(10, 0)  # This will raise a ZeroDivisionError"
   ]
  },
  {
   "cell_type": "code",
   "execution_count": null,
   "id": "99c62015",
   "metadata": {},
   "outputs": [],
   "source": [
    "Q3. Which Python statements are used to catch and handle exceptions? Explain with an example.\n",
    "\n",
    "Python uses try, except, finally, and raise statements to catch and handle exceptions."
   ]
  },
  {
   "cell_type": "code",
   "execution_count": 2,
   "id": "da4e2407",
   "metadata": {},
   "outputs": [
    {
     "name": "stdout",
     "output_type": "stream",
     "text": [
      "Cannot divide by zero!\n"
     ]
    }
   ],
   "source": [
    "# Example of using try-except block to handle exceptions\n",
    "try:\n",
    "    result = 10 / 0  # This will raise a ZeroDivisionError\n",
    "except ZeroDivisionError:\n",
    "    print(\"Cannot divide by zero!\")"
   ]
  },
  {
   "cell_type": "code",
   "execution_count": null,
   "id": "be701353",
   "metadata": {},
   "outputs": [],
   "source": [
    "Q4. Explain with an example: try, except, else, finally, and raise."
   ]
  },
  {
   "cell_type": "code",
   "execution_count": 3,
   "id": "e8435738",
   "metadata": {},
   "outputs": [
    {
     "name": "stdout",
     "output_type": "stream",
     "text": [
      "Division successful!\n",
      "This block always executes, regardless of exceptions.\n"
     ]
    },
    {
     "ename": "ValueError",
     "evalue": "This is a custom exception raised in the finally block.",
     "output_type": "error",
     "traceback": [
      "\u001b[1;31m---------------------------------------------------------------------------\u001b[0m",
      "\u001b[1;31mValueError\u001b[0m                                Traceback (most recent call last)",
      "Cell \u001b[1;32mIn[3], line 11\u001b[0m\n\u001b[0;32m      9\u001b[0m \u001b[38;5;28mprint\u001b[39m(\u001b[38;5;124m\"\u001b[39m\u001b[38;5;124mThis block always executes, regardless of exceptions.\u001b[39m\u001b[38;5;124m\"\u001b[39m)\n\u001b[0;32m     10\u001b[0m \u001b[38;5;66;03m# You can also raise a custom exception in finally block\u001b[39;00m\n\u001b[1;32m---> 11\u001b[0m \u001b[38;5;28;01mraise\u001b[39;00m \u001b[38;5;167;01mValueError\u001b[39;00m(\u001b[38;5;124m\"\u001b[39m\u001b[38;5;124mThis is a custom exception raised in the finally block.\u001b[39m\u001b[38;5;124m\"\u001b[39m)\n",
      "\u001b[1;31mValueError\u001b[0m: This is a custom exception raised in the finally block."
     ]
    }
   ],
   "source": [
    "# Example of try-except-else-finally and raise\n",
    "try:\n",
    "    result = 10 / 2\n",
    "except ZeroDivisionError:\n",
    "    print(\"Cannot divide by zero!\")\n",
    "else:\n",
    "    print(\"Division successful!\")\n",
    "finally:\n",
    "    print(\"This block always executes, regardless of exceptions.\")\n",
    "    # You can also raise a custom exception in finally block\n",
    "    raise ValueError(\"This is a custom exception raised in the finally block.\")"
   ]
  },
  {
   "cell_type": "code",
   "execution_count": null,
   "id": "7145af48",
   "metadata": {},
   "outputs": [],
   "source": [
    "Q5. What are Custom Exceptions in Python? Why do we need Custom Exceptions? Explain with an example.\n",
    "\n",
    "Custom exceptions in Python are user-defined exceptions that extend the built-in Exception class or its subclasses. They allow \n",
    "programmers to create specific exception types tailored to their applications.\n",
    "\n",
    "We need custom exceptions to provide more meaningful error messages and to distinguish between different types of errors in our \n",
    "code."
   ]
  },
  {
   "cell_type": "code",
   "execution_count": 4,
   "id": "d466e042",
   "metadata": {},
   "outputs": [
    {
     "name": "stdout",
     "output_type": "stream",
     "text": [
      "Age must be greater than or equal to 18.\n"
     ]
    }
   ],
   "source": [
    "# Example of custom exception\n",
    "class CustomError(Exception):\n",
    "    pass\n",
    "\n",
    "def validate_age(age):\n",
    "    if age < 18:\n",
    "        raise CustomError(\"Age must be greater than or equal to 18.\")\n",
    "\n",
    "try:\n",
    "    validate_age(15)\n",
    "except CustomError as e:\n",
    "    print(e)"
   ]
  },
  {
   "cell_type": "code",
   "execution_count": null,
   "id": "878a507a",
   "metadata": {},
   "outputs": [],
   "source": [
    "Q6. Create a custom exception class. Use this class to handle an exception."
   ]
  },
  {
   "cell_type": "code",
   "execution_count": 5,
   "id": "fd548faa",
   "metadata": {},
   "outputs": [
    {
     "name": "stdout",
     "output_type": "stream",
     "text": [
      "This is a custom exception.\n"
     ]
    }
   ],
   "source": [
    "# Creating a custom exception class\n",
    "class CustomError(Exception):\n",
    "    def __init__(self, message):\n",
    "        self.message = message\n",
    "        super().__init__(self.message)\n",
    "\n",
    "# Using the custom exception class to handle an exception\n",
    "try:\n",
    "    raise CustomError(\"This is a custom exception.\")\n",
    "except CustomError as e:\n",
    "    print(e)"
   ]
  },
  {
   "cell_type": "code",
   "execution_count": null,
   "id": "951b784d",
   "metadata": {},
   "outputs": [],
   "source": []
  }
 ],
 "metadata": {
  "kernelspec": {
   "display_name": "Python 3 (ipykernel)",
   "language": "python",
   "name": "python3"
  },
  "language_info": {
   "codemirror_mode": {
    "name": "ipython",
    "version": 3
   },
   "file_extension": ".py",
   "mimetype": "text/x-python",
   "name": "python",
   "nbconvert_exporter": "python",
   "pygments_lexer": "ipython3",
   "version": "3.11.5"
  }
 },
 "nbformat": 4,
 "nbformat_minor": 5
}
