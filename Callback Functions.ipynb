{
 "cells": [
  {
   "cell_type": "code",
   "execution_count": 1,
   "id": "99f473a9",
   "metadata": {},
   "outputs": [
    {
     "name": "stdout",
     "output_type": "stream",
     "text": [
      "Requirement already satisfied: tensorflow in c:\\users\\yuvra\\anaconda3\\lib\\site-packages (2.13.0)\n",
      "Requirement already satisfied: tensorflow-intel==2.13.0 in c:\\users\\yuvra\\anaconda3\\lib\\site-packages (from tensorflow) (2.13.0)\n",
      "Requirement already satisfied: absl-py>=1.0.0 in c:\\users\\yuvra\\anaconda3\\lib\\site-packages (from tensorflow-intel==2.13.0->tensorflow) (2.0.0)\n",
      "Requirement already satisfied: astunparse>=1.6.0 in c:\\users\\yuvra\\anaconda3\\lib\\site-packages (from tensorflow-intel==2.13.0->tensorflow) (1.6.3)\n",
      "Requirement already satisfied: flatbuffers>=23.1.21 in c:\\users\\yuvra\\appdata\\roaming\\python\\python311\\site-packages (from tensorflow-intel==2.13.0->tensorflow) (23.5.26)\n",
      "Requirement already satisfied: gast<=0.4.0,>=0.2.1 in c:\\users\\yuvra\\anaconda3\\lib\\site-packages (from tensorflow-intel==2.13.0->tensorflow) (0.4.0)\n",
      "Requirement already satisfied: google-pasta>=0.1.1 in c:\\users\\yuvra\\anaconda3\\lib\\site-packages (from tensorflow-intel==2.13.0->tensorflow) (0.2.0)\n",
      "Requirement already satisfied: h5py>=2.9.0 in c:\\users\\yuvra\\anaconda3\\lib\\site-packages (from tensorflow-intel==2.13.0->tensorflow) (3.7.0)\n",
      "Requirement already satisfied: libclang>=13.0.0 in c:\\users\\yuvra\\appdata\\roaming\\python\\python311\\site-packages (from tensorflow-intel==2.13.0->tensorflow) (16.0.6)\n",
      "Requirement already satisfied: numpy<=1.24.3,>=1.22 in c:\\users\\yuvra\\appdata\\roaming\\python\\python311\\site-packages (from tensorflow-intel==2.13.0->tensorflow) (1.24.3)\n",
      "Requirement already satisfied: opt-einsum>=2.3.2 in c:\\users\\yuvra\\anaconda3\\lib\\site-packages (from tensorflow-intel==2.13.0->tensorflow) (3.3.0)\n",
      "Requirement already satisfied: packaging in c:\\users\\yuvra\\appdata\\roaming\\python\\python311\\site-packages (from tensorflow-intel==2.13.0->tensorflow) (23.1)\n",
      "Requirement already satisfied: protobuf!=4.21.0,!=4.21.1,!=4.21.2,!=4.21.3,!=4.21.4,!=4.21.5,<5.0.0dev,>=3.20.3 in c:\\users\\yuvra\\appdata\\roaming\\python\\python311\\site-packages (from tensorflow-intel==2.13.0->tensorflow) (4.24.3)\n",
      "Requirement already satisfied: setuptools in c:\\users\\yuvra\\anaconda3\\lib\\site-packages (from tensorflow-intel==2.13.0->tensorflow) (68.0.0)\n",
      "Requirement already satisfied: six>=1.12.0 in c:\\users\\yuvra\\appdata\\roaming\\python\\python311\\site-packages (from tensorflow-intel==2.13.0->tensorflow) (1.16.0)\n",
      "Requirement already satisfied: termcolor>=1.1.0 in c:\\users\\yuvra\\appdata\\roaming\\python\\python311\\site-packages (from tensorflow-intel==2.13.0->tensorflow) (2.3.0)\n",
      "Requirement already satisfied: typing-extensions<4.6.0,>=3.6.6 in c:\\users\\yuvra\\appdata\\roaming\\python\\python311\\site-packages (from tensorflow-intel==2.13.0->tensorflow) (4.5.0)\n",
      "Requirement already satisfied: wrapt>=1.11.0 in c:\\users\\yuvra\\appdata\\roaming\\python\\python311\\site-packages (from tensorflow-intel==2.13.0->tensorflow) (1.15.0)\n",
      "Requirement already satisfied: grpcio<2.0,>=1.24.3 in c:\\users\\yuvra\\anaconda3\\lib\\site-packages (from tensorflow-intel==2.13.0->tensorflow) (1.58.0)\n",
      "Requirement already satisfied: tensorboard<2.14,>=2.13 in c:\\users\\yuvra\\anaconda3\\lib\\site-packages (from tensorflow-intel==2.13.0->tensorflow) (2.13.0)\n",
      "Requirement already satisfied: tensorflow-estimator<2.14,>=2.13.0 in c:\\users\\yuvra\\appdata\\roaming\\python\\python311\\site-packages (from tensorflow-intel==2.13.0->tensorflow) (2.13.0)\n",
      "Requirement already satisfied: keras<2.14,>=2.13.1 in c:\\users\\yuvra\\anaconda3\\lib\\site-packages (from tensorflow-intel==2.13.0->tensorflow) (2.13.1)\n",
      "Requirement already satisfied: tensorflow-io-gcs-filesystem>=0.23.1 in c:\\users\\yuvra\\appdata\\roaming\\python\\python311\\site-packages (from tensorflow-intel==2.13.0->tensorflow) (0.31.0)\n",
      "Requirement already satisfied: wheel<1.0,>=0.23.0 in c:\\users\\yuvra\\appdata\\roaming\\python\\python311\\site-packages (from astunparse>=1.6.0->tensorflow-intel==2.13.0->tensorflow) (0.41.2)\n",
      "Requirement already satisfied: google-auth<3,>=1.6.3 in c:\\users\\yuvra\\anaconda3\\lib\\site-packages (from tensorboard<2.14,>=2.13->tensorflow-intel==2.13.0->tensorflow) (2.23.0)\n",
      "Requirement already satisfied: google-auth-oauthlib<1.1,>=0.5 in c:\\users\\yuvra\\anaconda3\\lib\\site-packages (from tensorboard<2.14,>=2.13->tensorflow-intel==2.13.0->tensorflow) (1.0.0)\n",
      "Requirement already satisfied: markdown>=2.6.8 in c:\\users\\yuvra\\anaconda3\\lib\\site-packages (from tensorboard<2.14,>=2.13->tensorflow-intel==2.13.0->tensorflow) (3.4.1)\n",
      "Requirement already satisfied: requests<3,>=2.21.0 in c:\\users\\yuvra\\anaconda3\\lib\\site-packages (from tensorboard<2.14,>=2.13->tensorflow-intel==2.13.0->tensorflow) (2.31.0)\n",
      "Requirement already satisfied: tensorboard-data-server<0.8.0,>=0.7.0 in c:\\users\\yuvra\\appdata\\roaming\\python\\python311\\site-packages (from tensorboard<2.14,>=2.13->tensorflow-intel==2.13.0->tensorflow) (0.7.1)\n",
      "Requirement already satisfied: werkzeug>=1.0.1 in c:\\users\\yuvra\\anaconda3\\lib\\site-packages (from tensorboard<2.14,>=2.13->tensorflow-intel==2.13.0->tensorflow) (2.2.3)\n",
      "Requirement already satisfied: cachetools<6.0,>=2.0.0 in c:\\users\\yuvra\\anaconda3\\lib\\site-packages (from google-auth<3,>=1.6.3->tensorboard<2.14,>=2.13->tensorflow-intel==2.13.0->tensorflow) (5.3.1)\n",
      "Requirement already satisfied: pyasn1-modules>=0.2.1 in c:\\users\\yuvra\\anaconda3\\lib\\site-packages (from google-auth<3,>=1.6.3->tensorboard<2.14,>=2.13->tensorflow-intel==2.13.0->tensorflow) (0.2.8)\n",
      "Requirement already satisfied: rsa<5,>=3.1.4 in c:\\users\\yuvra\\anaconda3\\lib\\site-packages (from google-auth<3,>=1.6.3->tensorboard<2.14,>=2.13->tensorflow-intel==2.13.0->tensorflow) (4.9)\n",
      "Requirement already satisfied: urllib3<2.0 in c:\\users\\yuvra\\appdata\\roaming\\python\\python311\\site-packages (from google-auth<3,>=1.6.3->tensorboard<2.14,>=2.13->tensorflow-intel==2.13.0->tensorflow) (1.26.16)\n",
      "Requirement already satisfied: requests-oauthlib>=0.7.0 in c:\\users\\yuvra\\anaconda3\\lib\\site-packages (from google-auth-oauthlib<1.1,>=0.5->tensorboard<2.14,>=2.13->tensorflow-intel==2.13.0->tensorflow) (1.3.1)\n",
      "Requirement already satisfied: charset-normalizer<4,>=2 in c:\\users\\yuvra\\anaconda3\\lib\\site-packages (from requests<3,>=2.21.0->tensorboard<2.14,>=2.13->tensorflow-intel==2.13.0->tensorflow) (2.0.4)\n",
      "Requirement already satisfied: idna<4,>=2.5 in c:\\users\\yuvra\\anaconda3\\lib\\site-packages (from requests<3,>=2.21.0->tensorboard<2.14,>=2.13->tensorflow-intel==2.13.0->tensorflow) (3.4)\n",
      "Requirement already satisfied: certifi>=2017.4.17 in c:\\users\\yuvra\\anaconda3\\lib\\site-packages (from requests<3,>=2.21.0->tensorboard<2.14,>=2.13->tensorflow-intel==2.13.0->tensorflow) (2023.7.22)\n",
      "Requirement already satisfied: MarkupSafe>=2.1.1 in c:\\users\\yuvra\\appdata\\roaming\\python\\python311\\site-packages (from werkzeug>=1.0.1->tensorboard<2.14,>=2.13->tensorflow-intel==2.13.0->tensorflow) (2.1.3)\n",
      "Requirement already satisfied: pyasn1<0.5.0,>=0.4.6 in c:\\users\\yuvra\\anaconda3\\lib\\site-packages (from pyasn1-modules>=0.2.1->google-auth<3,>=1.6.3->tensorboard<2.14,>=2.13->tensorflow-intel==2.13.0->tensorflow) (0.4.8)\n",
      "Requirement already satisfied: oauthlib>=3.0.0 in c:\\users\\yuvra\\appdata\\roaming\\python\\python311\\site-packages (from requests-oauthlib>=0.7.0->google-auth-oauthlib<1.1,>=0.5->tensorboard<2.14,>=2.13->tensorflow-intel==2.13.0->tensorflow) (3.2.2)\n",
      "Requirement already satisfied: keras in c:\\users\\yuvra\\anaconda3\\lib\\site-packages (2.13.1)\n",
      "TensorFlow version: 2.13.0\n"
     ]
    }
   ],
   "source": [
    "# Install the latest versions of TensorFlow and Keras\n",
    "!pip install tensorflow\n",
    "!pip install keras\n",
    "\n",
    "# Import TensorFlow and Keras and print their versions\n",
    "import tensorflow as tf\n",
    "from tensorflow import keras\n",
    "\n",
    "print(\"TensorFlow version:\", tf.__version__)"
   ]
  },
  {
   "cell_type": "code",
   "execution_count": 6,
   "id": "d4fa534c",
   "metadata": {},
   "outputs": [
    {
     "name": "stdout",
     "output_type": "stream",
     "text": [
      "Dataset dimensions: (1599, 12)\n"
     ]
    }
   ],
   "source": [
    "#2\n",
    "import pandas as pd\n",
    "\n",
    "# Load the dataset\n",
    "data = pd.read_csv(r\"C:\\Users\\yuvra\\Downloads\\wine\\wine.csv\")\n",
    "\n",
    "# Explore dataset dimensions\n",
    "print(\"Dataset dimensions:\", data.shape)"
   ]
  },
  {
   "cell_type": "code",
   "execution_count": 7,
   "id": "31fd4c6d",
   "metadata": {},
   "outputs": [
    {
     "name": "stdout",
     "output_type": "stream",
     "text": [
      "Null values:\n",
      " fixed acidity           0\n",
      "volatile acidity        0\n",
      "citric acid             0\n",
      "residual sugar          0\n",
      "chlorides               0\n",
      "free sulfur dioxide     0\n",
      "total sulfur dioxide    0\n",
      "density                 0\n",
      "pH                      0\n",
      "sulphates               0\n",
      "alcohol                 0\n",
      "Quality                 0\n",
      "dtype: int64\n"
     ]
    }
   ],
   "source": [
    "#3\n",
    "# Check for null values\n",
    "print(\"Null values:\\n\", data.isnull().sum())\n",
    "\n",
    "# Identify categorical variables\n",
    "categorical_cols = data.select_dtypes(include=['object']).columns.tolist()\n",
    "\n",
    "# Encode categorical variables (e.g., using one-hot encoding)\n",
    "data = pd.get_dummies(data, columns=categorical_cols, drop_first=True)"
   ]
  },
  {
   "cell_type": "code",
   "execution_count": 10,
   "id": "e716144f",
   "metadata": {},
   "outputs": [],
   "source": [
    "#4\n",
    "X = data.drop(columns=['pH'])  # Replace with the actual column name\n",
    "y = data['pH']  # Replace with the actual column name"
   ]
  },
  {
   "cell_type": "code",
   "execution_count": 11,
   "id": "c19c8137",
   "metadata": {},
   "outputs": [],
   "source": [
    "#5\n",
    "from sklearn.model_selection import train_test_split\n",
    "\n",
    "# Split the data into training, validation, and test sets\n",
    "X_train, X_temp, y_train, y_temp = train_test_split(X, y, test_size=0.3, random_state=42)\n",
    "X_val, X_test, y_val, y_test = train_test_split(X_temp, y_temp, test_size=0.5, random_state=42)"
   ]
  },
  {
   "cell_type": "code",
   "execution_count": 12,
   "id": "337346d3",
   "metadata": {},
   "outputs": [],
   "source": [
    "#6\n",
    "from sklearn.preprocessing import StandardScaler\n",
    "\n",
    "# Scale the features\n",
    "scaler = StandardScaler()\n",
    "X_train = scaler.fit_transform(X_train)\n",
    "X_val = scaler.transform(X_val)\n",
    "X_test = scaler.transform(X_test)"
   ]
  },
  {
   "cell_type": "code",
   "execution_count": 13,
   "id": "13e2118d",
   "metadata": {},
   "outputs": [],
   "source": [
    "#7\n",
    "from tensorflow.keras.layers import Dense\n",
    "\n",
    "model = keras.Sequential([\n",
    "    Dense(64, activation='relu', input_shape=(X_train.shape[1],)),\n",
    "    Dense(32, activation='relu'),\n",
    "    Dense(1, activation='sigmoid')\n",
    "])"
   ]
  },
  {
   "cell_type": "code",
   "execution_count": 14,
   "id": "8c91d071",
   "metadata": {},
   "outputs": [],
   "source": [
    "#8\n",
    "from keras.models import Sequential\n",
    "from keras.layers import Dense\n",
    "\n",
    "model = Sequential()\n",
    "\n",
    "# Add hidden layers\n",
    "model.add(Dense(units=64, activation='relu', input_dim=X_train.shape[1]))\n",
    "model.add(Dense(units=32, activation='relu'))\n",
    "\n",
    "# Add the output layer\n",
    "model.add(Dense(units=1, activation='sigmoid'))"
   ]
  },
  {
   "cell_type": "code",
   "execution_count": 15,
   "id": "b89ccc8a",
   "metadata": {},
   "outputs": [],
   "source": [
    "#9\n",
    "from tensorflow.keras.callbacks import TensorBoard\n",
    "\n",
    "# Create a TensorBoard callback\n",
    "tensorboard_callback = TensorBoard(log_dir=\"./logs\")"
   ]
  },
  {
   "cell_type": "code",
   "execution_count": 16,
   "id": "89190d13",
   "metadata": {},
   "outputs": [],
   "source": [
    "#10\n",
    "from tensorflow.keras.callbacks import EarlyStopping\n",
    "\n",
    "# Create an EarlyStopping callback\n",
    "early_stopping_callback = EarlyStopping(monitor='val_loss', patience=5)"
   ]
  },
  {
   "cell_type": "code",
   "execution_count": 17,
   "id": "b17485cb",
   "metadata": {},
   "outputs": [],
   "source": [
    "#11\n",
    "from tensorflow.keras.callbacks import ModelCheckpoint\n",
    "\n",
    "# Create a ModelCheckpoint callback to save the best model\n",
    "model_checkpoint_callback = ModelCheckpoint(filepath='best_model.h5', save_best_only=True, monitor='val_loss', mode='min')"
   ]
  },
  {
   "cell_type": "code",
   "execution_count": 18,
   "id": "dda732a0",
   "metadata": {},
   "outputs": [
    {
     "name": "stdout",
     "output_type": "stream",
     "text": [
      "Model: \"sequential_1\"\n",
      "_________________________________________________________________\n",
      " Layer (type)                Output Shape              Param #   \n",
      "=================================================================\n",
      " dense_3 (Dense)             (None, 64)                768       \n",
      "                                                                 \n",
      " dense_4 (Dense)             (None, 32)                2080      \n",
      "                                                                 \n",
      " dense_5 (Dense)             (None, 1)                 33        \n",
      "                                                                 \n",
      "=================================================================\n",
      "Total params: 2881 (11.25 KB)\n",
      "Trainable params: 2881 (11.25 KB)\n",
      "Non-trainable params: 0 (0.00 Byte)\n",
      "_________________________________________________________________\n"
     ]
    }
   ],
   "source": [
    "#12\n",
    "model.summary()"
   ]
  },
  {
   "cell_type": "code",
   "execution_count": 19,
   "id": "04ab839b",
   "metadata": {},
   "outputs": [],
   "source": [
    "#13\n",
    "model.compile(loss='binary_crossentropy', optimizer='adam', metrics=['accuracy'])"
   ]
  },
  {
   "cell_type": "code",
   "execution_count": 20,
   "id": "1fd40bf9",
   "metadata": {},
   "outputs": [
    {
     "name": "stdout",
     "output_type": "stream",
     "text": [
      "Epoch 1/50\n",
      "35/35 [==============================] - 2s 17ms/step - loss: -3.5080 - accuracy: 0.0000e+00 - val_loss: -7.8766 - val_accuracy: 0.0000e+00\n",
      "Epoch 2/50\n",
      "18/35 [==============>...............] - ETA: 0s - loss: -10.2843 - accuracy: 0.0000e+00"
     ]
    },
    {
     "name": "stderr",
     "output_type": "stream",
     "text": [
      "C:\\Users\\yuvra\\anaconda3\\Lib\\site-packages\\keras\\src\\engine\\training.py:3000: UserWarning: You are saving your model as an HDF5 file via `model.save()`. This file format is considered legacy. We recommend using instead the native Keras format, e.g. `model.save('my_model.keras')`.\n",
      "  saving_api.save_model(\n"
     ]
    },
    {
     "name": "stdout",
     "output_type": "stream",
     "text": [
      "35/35 [==============================] - 0s 6ms/step - loss: -14.1505 - accuracy: 0.0000e+00 - val_loss: -23.4208 - val_accuracy: 0.0000e+00\n",
      "Epoch 3/50\n",
      "35/35 [==============================] - 0s 5ms/step - loss: -36.8099 - accuracy: 0.0000e+00 - val_loss: -56.1043 - val_accuracy: 0.0000e+00\n",
      "Epoch 4/50\n",
      "35/35 [==============================] - 0s 6ms/step - loss: -81.9525 - accuracy: 0.0000e+00 - val_loss: -117.3204 - val_accuracy: 0.0000e+00\n",
      "Epoch 5/50\n",
      "35/35 [==============================] - 0s 5ms/step - loss: -161.5751 - accuracy: 0.0000e+00 - val_loss: -220.7611 - val_accuracy: 0.0000e+00\n",
      "Epoch 6/50\n",
      "35/35 [==============================] - 0s 5ms/step - loss: -289.2875 - accuracy: 0.0000e+00 - val_loss: -378.8460 - val_accuracy: 0.0000e+00\n",
      "Epoch 7/50\n",
      "35/35 [==============================] - 0s 6ms/step - loss: -477.3076 - accuracy: 0.0000e+00 - val_loss: -604.9379 - val_accuracy: 0.0000e+00\n",
      "Epoch 8/50\n",
      "35/35 [==============================] - 0s 6ms/step - loss: -740.3356 - accuracy: 0.0000e+00 - val_loss: -910.8546 - val_accuracy: 0.0000e+00\n",
      "Epoch 9/50\n",
      "35/35 [==============================] - 0s 6ms/step - loss: -1088.6743 - accuracy: 0.0000e+00 - val_loss: -1311.1421 - val_accuracy: 0.0000e+00\n",
      "Epoch 10/50\n",
      "35/35 [==============================] - 0s 6ms/step - loss: -1537.3872 - accuracy: 0.0000e+00 - val_loss: -1816.5653 - val_accuracy: 0.0000e+00\n",
      "Epoch 11/50\n",
      "35/35 [==============================] - 0s 6ms/step - loss: -2097.9126 - accuracy: 0.0000e+00 - val_loss: -2436.7383 - val_accuracy: 0.0000e+00\n",
      "Epoch 12/50\n",
      "35/35 [==============================] - 0s 6ms/step - loss: -2779.1860 - accuracy: 0.0000e+00 - val_loss: -3190.8555 - val_accuracy: 0.0000e+00\n",
      "Epoch 13/50\n",
      "35/35 [==============================] - 0s 6ms/step - loss: -3596.6472 - accuracy: 0.0000e+00 - val_loss: -4082.2234 - val_accuracy: 0.0000e+00\n",
      "Epoch 14/50\n",
      "35/35 [==============================] - 0s 6ms/step - loss: -4559.6143 - accuracy: 0.0000e+00 - val_loss: -5121.2344 - val_accuracy: 0.0000e+00\n",
      "Epoch 15/50\n",
      "35/35 [==============================] - 0s 6ms/step - loss: -5674.4585 - accuracy: 0.0000e+00 - val_loss: -6325.3379 - val_accuracy: 0.0000e+00\n",
      "Epoch 16/50\n",
      "35/35 [==============================] - 0s 5ms/step - loss: -6957.2627 - accuracy: 0.0000e+00 - val_loss: -7692.7236 - val_accuracy: 0.0000e+00\n",
      "Epoch 17/50\n",
      "35/35 [==============================] - 0s 6ms/step - loss: -8410.2617 - accuracy: 0.0000e+00 - val_loss: -9240.5811 - val_accuracy: 0.0000e+00\n",
      "Epoch 18/50\n",
      "35/35 [==============================] - 0s 6ms/step - loss: -10047.8594 - accuracy: 0.0000e+00 - val_loss: -10970.5312 - val_accuracy: 0.0000e+00\n",
      "Epoch 19/50\n",
      "35/35 [==============================] - 0s 6ms/step - loss: -11875.3838 - accuracy: 0.0000e+00 - val_loss: -12902.7510 - val_accuracy: 0.0000e+00\n",
      "Epoch 20/50\n",
      "35/35 [==============================] - 0s 6ms/step - loss: -13905.8076 - accuracy: 0.0000e+00 - val_loss: -15036.7676 - val_accuracy: 0.0000e+00\n",
      "Epoch 21/50\n",
      "35/35 [==============================] - 0s 7ms/step - loss: -16143.2900 - accuracy: 0.0000e+00 - val_loss: -17376.9941 - val_accuracy: 0.0000e+00\n",
      "Epoch 22/50\n",
      "35/35 [==============================] - 0s 6ms/step - loss: -18586.6641 - accuracy: 0.0000e+00 - val_loss: -19946.6660 - val_accuracy: 0.0000e+00\n",
      "Epoch 23/50\n",
      "35/35 [==============================] - 0s 6ms/step - loss: -21257.3594 - accuracy: 0.0000e+00 - val_loss: -22729.7441 - val_accuracy: 0.0000e+00\n",
      "Epoch 24/50\n",
      "35/35 [==============================] - 0s 6ms/step - loss: -24161.4766 - accuracy: 0.0000e+00 - val_loss: -25728.5488 - val_accuracy: 0.0000e+00\n",
      "Epoch 25/50\n",
      "35/35 [==============================] - 0s 6ms/step - loss: -27290.5156 - accuracy: 0.0000e+00 - val_loss: -28993.1250 - val_accuracy: 0.0000e+00\n",
      "Epoch 26/50\n",
      "35/35 [==============================] - 0s 6ms/step - loss: -30662.5840 - accuracy: 0.0000e+00 - val_loss: -32506.0078 - val_accuracy: 0.0000e+00\n",
      "Epoch 27/50\n",
      "35/35 [==============================] - 0s 6ms/step - loss: -34298.9531 - accuracy: 0.0000e+00 - val_loss: -36253.3633 - val_accuracy: 0.0000e+00\n",
      "Epoch 28/50\n",
      "35/35 [==============================] - 0s 6ms/step - loss: -38174.9258 - accuracy: 0.0000e+00 - val_loss: -40284.7461 - val_accuracy: 0.0000e+00\n",
      "Epoch 29/50\n",
      "35/35 [==============================] - 0s 6ms/step - loss: -42326.6836 - accuracy: 0.0000e+00 - val_loss: -44551.9258 - val_accuracy: 0.0000e+00\n",
      "Epoch 30/50\n",
      "35/35 [==============================] - 0s 6ms/step - loss: -46735.5312 - accuracy: 0.0000e+00 - val_loss: -49089.3789 - val_accuracy: 0.0000e+00\n",
      "Epoch 31/50\n",
      "35/35 [==============================] - 0s 6ms/step - loss: -51417.5156 - accuracy: 0.0000e+00 - val_loss: -53907.1172 - val_accuracy: 0.0000e+00\n",
      "Epoch 32/50\n",
      "35/35 [==============================] - 0s 6ms/step - loss: -56362.0078 - accuracy: 0.0000e+00 - val_loss: -59025.2930 - val_accuracy: 0.0000e+00\n",
      "Epoch 33/50\n",
      "35/35 [==============================] - 0s 6ms/step - loss: -61612.1758 - accuracy: 0.0000e+00 - val_loss: -64370.5781 - val_accuracy: 0.0000e+00\n",
      "Epoch 34/50\n",
      "35/35 [==============================] - 0s 7ms/step - loss: -67129.2578 - accuracy: 0.0000e+00 - val_loss: -70011.2734 - val_accuracy: 0.0000e+00\n",
      "Epoch 35/50\n",
      "35/35 [==============================] - 0s 7ms/step - loss: -72923.2891 - accuracy: 0.0000e+00 - val_loss: -76001.1953 - val_accuracy: 0.0000e+00\n",
      "Epoch 36/50\n",
      "35/35 [==============================] - 0s 6ms/step - loss: -79044.6719 - accuracy: 0.0000e+00 - val_loss: -82224.2266 - val_accuracy: 0.0000e+00\n",
      "Epoch 37/50\n",
      "35/35 [==============================] - 0s 6ms/step - loss: -85441.2266 - accuracy: 0.0000e+00 - val_loss: -88799.7344 - val_accuracy: 0.0000e+00\n",
      "Epoch 38/50\n",
      "35/35 [==============================] - 0s 6ms/step - loss: -92154.7266 - accuracy: 0.0000e+00 - val_loss: -95665.7422 - val_accuracy: 0.0000e+00\n",
      "Epoch 39/50\n",
      "35/35 [==============================] - 0s 6ms/step - loss: -99189.0781 - accuracy: 0.0000e+00 - val_loss: -102803.2109 - val_accuracy: 0.0000e+00\n",
      "Epoch 40/50\n",
      "35/35 [==============================] - 0s 6ms/step - loss: -106515.7891 - accuracy: 0.0000e+00 - val_loss: -110283.0000 - val_accuracy: 0.0000e+00\n",
      "Epoch 41/50\n",
      "35/35 [==============================] - 0s 6ms/step - loss: -114167.4297 - accuracy: 0.0000e+00 - val_loss: -118109.6250 - val_accuracy: 0.0000e+00\n",
      "Epoch 42/50\n",
      "35/35 [==============================] - 0s 6ms/step - loss: -122148.0312 - accuracy: 0.0000e+00 - val_loss: -126239.8906 - val_accuracy: 0.0000e+00\n",
      "Epoch 43/50\n",
      "35/35 [==============================] - 0s 6ms/step - loss: -130447.0859 - accuracy: 0.0000e+00 - val_loss: -134711.8438 - val_accuracy: 0.0000e+00\n",
      "Epoch 44/50\n",
      "35/35 [==============================] - 0s 6ms/step - loss: -139067.0781 - accuracy: 0.0000e+00 - val_loss: -143524.8906 - val_accuracy: 0.0000e+00\n",
      "Epoch 45/50\n",
      "35/35 [==============================] - 0s 6ms/step - loss: -148043.5938 - accuracy: 0.0000e+00 - val_loss: -152606.8906 - val_accuracy: 0.0000e+00\n",
      "Epoch 46/50\n",
      "35/35 [==============================] - 0s 6ms/step - loss: -157339.0312 - accuracy: 0.0000e+00 - val_loss: -162068.5938 - val_accuracy: 0.0000e+00\n",
      "Epoch 47/50\n",
      "35/35 [==============================] - 0s 6ms/step - loss: -166977.8125 - accuracy: 0.0000e+00 - val_loss: -171844.7656 - val_accuracy: 0.0000e+00\n",
      "Epoch 48/50\n",
      "35/35 [==============================] - 0s 6ms/step - loss: -176959.5469 - accuracy: 0.0000e+00 - val_loss: -181995.3906 - val_accuracy: 0.0000e+00\n",
      "Epoch 49/50\n",
      "35/35 [==============================] - 0s 6ms/step - loss: -187279.8125 - accuracy: 0.0000e+00 - val_loss: -192496.1875 - val_accuracy: 0.0000e+00\n",
      "Epoch 50/50\n",
      "35/35 [==============================] - 0s 6ms/step - loss: -197959.4062 - accuracy: 0.0000e+00 - val_loss: -203297.2812 - val_accuracy: 0.0000e+00\n"
     ]
    }
   ],
   "source": [
    "#14\n",
    "history = model.fit(X_train, y_train, epochs=50, validation_data=(X_val, y_val), \n",
    "                    callbacks=[tensorboard_callback, early_stopping_callback, model_checkpoint_callback])"
   ]
  },
  {
   "cell_type": "code",
   "execution_count": 21,
   "id": "30a887c0",
   "metadata": {},
   "outputs": [],
   "source": [
    "#15\n",
    "# Get the model's parameters (weights and biases)\n",
    "model_params = model.get_weights()"
   ]
  },
  {
   "cell_type": "code",
   "execution_count": 22,
   "id": "fbccf6c6",
   "metadata": {},
   "outputs": [],
   "source": [
    "#16\n",
    "# Create a DataFrame from the training history\n",
    "history_df = pd.DataFrame(history.history)"
   ]
  }
 ],
 "metadata": {
  "kernelspec": {
   "display_name": "Python 3 (ipykernel)",
   "language": "python",
   "name": "python3"
  },
  "language_info": {
   "codemirror_mode": {
    "name": "ipython",
    "version": 3
   },
   "file_extension": ".py",
   "mimetype": "text/x-python",
   "name": "python",
   "nbconvert_exporter": "python",
   "pygments_lexer": "ipython3",
   "version": "3.11.4"
  }
 },
 "nbformat": 4,
 "nbformat_minor": 5
}
